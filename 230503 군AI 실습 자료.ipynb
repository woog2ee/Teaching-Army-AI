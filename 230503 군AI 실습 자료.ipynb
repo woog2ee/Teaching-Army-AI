{
  "nbformat": 4,
  "nbformat_minor": 0,
  "metadata": {
    "colab": {
      "provenance": []
    },
    "kernelspec": {
      "name": "python3",
      "display_name": "Python 3"
    },
    "language_info": {
      "name": "python"
    }
  },
  "cells": [
    {
      "cell_type": "markdown",
      "source": [
        "230503 수요일 군AI 실습 자료입니다.   \n",
        "본 내용은 IIPL (Intelligent Information Processing Lab) 소속 석사과정 유승욱 조교가 작성하였습니다.   \n",
        "참고 자료: MIT Introduction to Deep Learning 6.S191: Lecture 3\n",
        "\n",
        "> Lecture 3 \n",
        "- Images are Numbers\n",
        "- Fully Connected Neural Network for MNIST\n",
        "- CNN for MNIST\n",
        "- Make Predictions with the CNN Model"
      ],
      "metadata": {
        "id": "Wv13W1_4aUOD"
      }
    },
    {
      "cell_type": "markdown",
      "source": [
        "### Libraries"
      ],
      "metadata": {
        "id": "FpWRDuAJaR7E"
      }
    },
    {
      "cell_type": "code",
      "source": [
        "import numpy as np\n",
        "import tensorflow as tf\n",
        "\n",
        "import matplotlib.pyplot as plt"
      ],
      "metadata": {
        "id": "L3QFiG-PaQt9"
      },
      "execution_count": null,
      "outputs": []
    },
    {
      "cell_type": "markdown",
      "source": [
        "### Images are Numbers"
      ],
      "metadata": {
        "id": "I3DnphAqk4NH"
      }
    },
    {
      "cell_type": "code",
      "source": [
        "\"\"\" TODO: Print each shape of train, test dataset's image \"\"\"\n",
        "\n",
        "mnist = tf.keras.datasets.mnist\n",
        "(train_images, train_labels), (test_images, test_labels) = mnist.load_data()\n",
        "\n",
        "print('how many train images: {}'.format(len(train_images)))\n",
        "print('how many test images: {}\\n'.format(len(test_images)))\n",
        "\n",
        "print('shapes of train images: {}'.format(train_images[0].shape))\n",
        "print('shapes of test images: {}'.format(test_images[0].shape))"
      ],
      "metadata": {
        "colab": {
          "base_uri": "https://localhost:8080/"
        },
        "id": "r124ShMtk55a",
        "outputId": "64a47fac-51e8-4a64-af11-0cf5b84a6973"
      },
      "execution_count": null,
      "outputs": [
        {
          "output_type": "stream",
          "name": "stdout",
          "text": [
            "how many train images: 60000\n",
            "how many test images: 10000\n",
            "\n",
            "shapes of train images: (28, 28)\n",
            "shapes of test images: (28, 28)\n"
          ]
        }
      ]
    },
    {
      "cell_type": "code",
      "source": [
        "print('actual value of train images: ')\n",
        "print('{}'.format(train_images[0]))"
      ],
      "metadata": {
        "colab": {
          "base_uri": "https://localhost:8080/"
        },
        "id": "9cr3Ls_XlF5r",
        "outputId": "ec911987-a521-431e-ed9f-334138defd82"
      },
      "execution_count": null,
      "outputs": [
        {
          "output_type": "stream",
          "name": "stdout",
          "text": [
            "actual value of train images: \n",
            "[[  0   0   0   0   0   0   0   0   0   0   0   0   0   0   0   0   0   0\n",
            "    0   0   0   0   0   0   0   0   0   0]\n",
            " [  0   0   0   0   0   0   0   0   0   0   0   0   0   0   0   0   0   0\n",
            "    0   0   0   0   0   0   0   0   0   0]\n",
            " [  0   0   0   0   0   0   0   0   0   0   0   0   0   0   0   0   0   0\n",
            "    0   0   0   0   0   0   0   0   0   0]\n",
            " [  0   0   0   0   0   0   0   0   0   0   0   0   0   0   0   0   0   0\n",
            "    0   0   0   0   0   0   0   0   0   0]\n",
            " [  0   0   0   0   0   0   0   0   0   0   0   0   0   0   0   0   0   0\n",
            "    0   0   0   0   0   0   0   0   0   0]\n",
            " [  0   0   0   0   0   0   0   0   0   0   0   0   3  18  18  18 126 136\n",
            "  175  26 166 255 247 127   0   0   0   0]\n",
            " [  0   0   0   0   0   0   0   0  30  36  94 154 170 253 253 253 253 253\n",
            "  225 172 253 242 195  64   0   0   0   0]\n",
            " [  0   0   0   0   0   0   0  49 238 253 253 253 253 253 253 253 253 251\n",
            "   93  82  82  56  39   0   0   0   0   0]\n",
            " [  0   0   0   0   0   0   0  18 219 253 253 253 253 253 198 182 247 241\n",
            "    0   0   0   0   0   0   0   0   0   0]\n",
            " [  0   0   0   0   0   0   0   0  80 156 107 253 253 205  11   0  43 154\n",
            "    0   0   0   0   0   0   0   0   0   0]\n",
            " [  0   0   0   0   0   0   0   0   0  14   1 154 253  90   0   0   0   0\n",
            "    0   0   0   0   0   0   0   0   0   0]\n",
            " [  0   0   0   0   0   0   0   0   0   0   0 139 253 190   2   0   0   0\n",
            "    0   0   0   0   0   0   0   0   0   0]\n",
            " [  0   0   0   0   0   0   0   0   0   0   0  11 190 253  70   0   0   0\n",
            "    0   0   0   0   0   0   0   0   0   0]\n",
            " [  0   0   0   0   0   0   0   0   0   0   0   0  35 241 225 160 108   1\n",
            "    0   0   0   0   0   0   0   0   0   0]\n",
            " [  0   0   0   0   0   0   0   0   0   0   0   0   0  81 240 253 253 119\n",
            "   25   0   0   0   0   0   0   0   0   0]\n",
            " [  0   0   0   0   0   0   0   0   0   0   0   0   0   0  45 186 253 253\n",
            "  150  27   0   0   0   0   0   0   0   0]\n",
            " [  0   0   0   0   0   0   0   0   0   0   0   0   0   0   0  16  93 252\n",
            "  253 187   0   0   0   0   0   0   0   0]\n",
            " [  0   0   0   0   0   0   0   0   0   0   0   0   0   0   0   0   0 249\n",
            "  253 249  64   0   0   0   0   0   0   0]\n",
            " [  0   0   0   0   0   0   0   0   0   0   0   0   0   0  46 130 183 253\n",
            "  253 207   2   0   0   0   0   0   0   0]\n",
            " [  0   0   0   0   0   0   0   0   0   0   0   0  39 148 229 253 253 253\n",
            "  250 182   0   0   0   0   0   0   0   0]\n",
            " [  0   0   0   0   0   0   0   0   0   0  24 114 221 253 253 253 253 201\n",
            "   78   0   0   0   0   0   0   0   0   0]\n",
            " [  0   0   0   0   0   0   0   0  23  66 213 253 253 253 253 198  81   2\n",
            "    0   0   0   0   0   0   0   0   0   0]\n",
            " [  0   0   0   0   0   0  18 171 219 253 253 253 253 195  80   9   0   0\n",
            "    0   0   0   0   0   0   0   0   0   0]\n",
            " [  0   0   0   0  55 172 226 253 253 253 253 244 133  11   0   0   0   0\n",
            "    0   0   0   0   0   0   0   0   0   0]\n",
            " [  0   0   0   0 136 253 253 253 212 135 132  16   0   0   0   0   0   0\n",
            "    0   0   0   0   0   0   0   0   0   0]\n",
            " [  0   0   0   0   0   0   0   0   0   0   0   0   0   0   0   0   0   0\n",
            "    0   0   0   0   0   0   0   0   0   0]\n",
            " [  0   0   0   0   0   0   0   0   0   0   0   0   0   0   0   0   0   0\n",
            "    0   0   0   0   0   0   0   0   0   0]\n",
            " [  0   0   0   0   0   0   0   0   0   0   0   0   0   0   0   0   0   0\n",
            "    0   0   0   0   0   0   0   0   0   0]]\n"
          ]
        }
      ]
    },
    {
      "cell_type": "code",
      "source": [
        "\"\"\" TODO: Normalize images in train & test datasets \"\"\"\n",
        "\n",
        "# Normalize images\n",
        "train_images = (np.expand_dims(train_images, axis=-1)/255.).astype(np.float32)\n",
        "train_labels = (train_labels).astype(np.int64)\n",
        "test_images = (np.expand_dims(test_images, axis=-1)/255.).astype(np.float32)\n",
        "test_labels = (test_labels).astype(np.int64)"
      ],
      "metadata": {
        "id": "yMsJczz3lBKy"
      },
      "execution_count": null,
      "outputs": []
    },
    {
      "cell_type": "code",
      "source": [
        "# Visualize images\n",
        "plt.figure(figsize=(10, 10))\n",
        "random_inds = np.random.choice(60000, 36)\n",
        "for i in range(36):\n",
        "    plt.subplot(6,6,i+1)\n",
        "    plt.xticks([])\n",
        "    plt.yticks([])\n",
        "    plt.grid(False)\n",
        "    image_ind = random_inds[i]\n",
        "    plt.imshow(np.squeeze(train_images[image_ind]), cmap=plt.cm.binary)\n",
        "    plt.xlabel(train_labels[image_ind])"
      ],
      "metadata": {
        "colab": {
          "base_uri": "https://localhost:8080/",
          "height": 748
        },
        "id": "b6dAXBqjmu1A",
        "outputId": "75893d4c-7a7b-450e-ded2-4ca84ecd04a1"
      },
      "execution_count": null,
      "outputs": [
        {
          "output_type": "display_data",
          "data": {
            "text/plain": [
              "<Figure size 1000x1000 with 36 Axes>"
            ],
            "image/png": "[encoded data removed]"
          },
          "metadata": {}
        }
      ]
    },
    {
      "cell_type": "markdown",
      "source": [
        "### Fully Connected Neural Network for MNIST"
      ],
      "metadata": {
        "id": "Zi8Asr6ynwjI"
      }
    },
    {
      "cell_type": "code",
      "source": [
        "\"\"\" TODO: Make your Fully Connected Neural Network using TensorFlow \"\"\" \n",
        "\n",
        "def build_fc_model(hidden_units):\n",
        "  model = tf.keras.Sequential([\n",
        "      # Flatten images\n",
        "      tf.keras.layers.Flatten(),\n",
        "\n",
        "      # First fully connected layer\n",
        "      tf.keras.layers.Dense(hidden_units, activation=tf.nn.relu),\n",
        "\n",
        "      # Last fully connected layer to output classification probability\n",
        "      tf.keras.layers.Dense(10, activation=tf.nn.softmax)\n",
        "  ])\n",
        "  return model"
      ],
      "metadata": {
        "id": "B4LoUq33nzFF"
      },
      "execution_count": null,
      "outputs": []
    },
    {
      "cell_type": "code",
      "source": [
        "\"\"\" TODO: Compile your model \"\"\"\n",
        "\n",
        "# Define fully connected neural network model\n",
        "hidden_units = 128\n",
        "fc_model     = build_fc_model(hidden_units)\n",
        "\n",
        "fc_model.compile(optimizer=tf.keras.optimizers.SGD(learning_rate=1e-1),\n",
        "                 loss='sparse_categorical_crossentropy',\n",
        "                 metrics=['accuracy'])"
      ],
      "metadata": {
        "id": "cxgQpcBipjDG"
      },
      "execution_count": null,
      "outputs": []
    },
    {
      "cell_type": "code",
      "source": [
        "\"\"\" TODO: Train your model \"\"\"\n",
        "\n",
        "# Train fully connected neural network model\n",
        "batch_size = 64\n",
        "epochs     = 10\n",
        "\n",
        "fc_model.fit(train_images, train_labels, batch_size=batch_size, epochs=epochs, verbose=1)"
      ],
      "metadata": {
        "colab": {
          "base_uri": "https://localhost:8080/"
        },
        "id": "k6gCvDZDpzMX",
        "outputId": "f53b26e8-9049-432f-af7b-86ebb9e957eb"
      },
      "execution_count": null,
      "outputs": [
        {
          "output_type": "stream",
          "name": "stdout",
          "text": [
            "Epoch 1/10\n",
            "938/938 [==============================] - 9s 8ms/step - loss: 0.3708 - accuracy: 0.8949\n",
            "Epoch 2/10\n",
            "938/938 [==============================] - 6s 6ms/step - loss: 0.1990 - accuracy: 0.9428\n",
            "Epoch 3/10\n",
            "938/938 [==============================] - 7s 7ms/step - loss: 0.1501 - accuracy: 0.9573\n",
            "Epoch 4/10\n",
            "938/938 [==============================] - 5s 6ms/step - loss: 0.1210 - accuracy: 0.9657\n",
            "Epoch 5/10\n",
            "938/938 [==============================] - 4s 4ms/step - loss: 0.1013 - accuracy: 0.9715\n",
            "Epoch 6/10\n",
            "938/938 [==============================] - 3s 3ms/step - loss: 0.0876 - accuracy: 0.9748\n",
            "Epoch 7/10\n",
            "938/938 [==============================] - 3s 3ms/step - loss: 0.0767 - accuracy: 0.9779\n",
            "Epoch 8/10\n",
            "938/938 [==============================] - 3s 3ms/step - loss: 0.0680 - accuracy: 0.9807\n",
            "Epoch 9/10\n",
            "938/938 [==============================] - 4s 4ms/step - loss: 0.0609 - accuracy: 0.9828\n",
            "Epoch 10/10\n",
            "938/938 [==============================] - 3s 3ms/step - loss: 0.0553 - accuracy: 0.9843\n"
          ]
        },
        {
          "output_type": "execute_result",
          "data": {
            "text/plain": [
              "<keras.callbacks.History at 0x7f439a508f70>"
            ]
          },
          "metadata": {},
          "execution_count": 8
        }
      ]
    },
    {
      "cell_type": "code",
      "source": [
        "# Test fully connected neural network model\n",
        "test_loss, test_acc = fc_model.evaluate(test_images, test_labels)\n",
        "\n",
        "print('test loss: {}'.format(test_loss))\n",
        "print('test accuracy: {}'.format(test_acc))"
      ],
      "metadata": {
        "colab": {
          "base_uri": "https://localhost:8080/"
        },
        "id": "GVy06ahCp5WQ",
        "outputId": "256b5258-0d65-4f8f-fd8c-ecaa7f79273b"
      },
      "execution_count": null,
      "outputs": [
        {
          "output_type": "stream",
          "name": "stdout",
          "text": [
            "313/313 [==============================] - 1s 2ms/step - loss: 0.0828 - accuracy: 0.9746\n",
            "test loss: 0.08281411230564117\n",
            "test accuracy: 0.9746000170707703\n"
          ]
        }
      ]
    },
    {
      "cell_type": "markdown",
      "source": [
        "### Convolutional Neural Networks (CNN) for MNIST"
      ],
      "metadata": {
        "id": "wG6RsODynzVv"
      }
    },
    {
      "cell_type": "code",
      "source": [
        "\"\"\" TODO: Make your CNN using TensorFlow \"\"\" \n",
        "\n",
        "def build_cnn_model(filters, hidden_units):\n",
        "  model = tf.keras.Sequential([\n",
        "      # First convolutional layer\n",
        "      tf.keras.layers.Conv2D(filters=filters[0], kernel_size=(3,3), activation=tf.nn.relu),\n",
        "\n",
        "      # First max pooling layer\n",
        "      tf.keras.layers.MaxPool2D(pool_size=(2,2)),\n",
        "\n",
        "      # Second convolutional layer\n",
        "      tf.keras.layers.Conv2D(filters=filters[1], kernel_size=(3,3), activation=tf.nn.relu),\n",
        "\n",
        "      # Second max pooling layer\n",
        "      tf.keras.layers.MaxPool2D(pool_size=(2,2)),\n",
        "\n",
        "      # Flatten images\n",
        "      tf.keras.layers.Flatten(),\n",
        "\n",
        "      # Additional fully connected layer\n",
        "      tf.keras.layers.Dense(hidden_units, activation=tf.nn.relu),\n",
        "\n",
        "      # Last fully connected layer to output classification probability\n",
        "      tf.keras.layers.Dense(10, activation=tf.nn.softmax)\n",
        "  ])\n",
        "  return model"
      ],
      "metadata": {
        "id": "hheSAnIJnzlz"
      },
      "execution_count": null,
      "outputs": []
    },
    {
      "cell_type": "code",
      "source": [
        "\"\"\" TODO: Compile your model \"\"\"\n",
        "\n",
        "# Define CNN model\n",
        "filters      = [24, 36]\n",
        "hidden_units = 128\n",
        "cnn_model    = build_cnn_model(filters, hidden_units)\n",
        "\n",
        "cnn_model.compile(optimizer=tf.keras.optimizers.Adam(learning_rate=1e-3),\n",
        "                  loss='sparse_categorical_crossentropy',\n",
        "                  metrics=['accuracy'])"
      ],
      "metadata": {
        "id": "VMm6xvh7rVDh"
      },
      "execution_count": null,
      "outputs": []
    },
    {
      "cell_type": "code",
      "source": [
        "\"\"\" TODO: Train your model \"\"\"\n",
        "\n",
        "# Train CNN model\n",
        "batch_size = 64\n",
        "epochs     = 10\n",
        "\n",
        "cnn_model.fit(train_images, train_labels, batch_size=batch_size, epochs=epochs, verbose=1)"
      ],
      "metadata": {
        "colab": {
          "base_uri": "https://localhost:8080/"
        },
        "id": "DGbUqtrTrU1k",
        "outputId": "d8cbebe1-6f2c-4d8c-8f98-40111b591bd2"
      },
      "execution_count": null,
      "outputs": [
        {
          "output_type": "stream",
          "name": "stdout",
          "text": [
            "Epoch 1/10\n",
            "938/938 [==============================] - 43s 44ms/step - loss: 0.1826 - accuracy: 0.9470\n",
            "Epoch 2/10\n",
            "938/938 [==============================] - 40s 43ms/step - loss: 0.0558 - accuracy: 0.9830\n",
            "Epoch 3/10\n",
            "938/938 [==============================] - 40s 43ms/step - loss: 0.0385 - accuracy: 0.9882\n",
            "Epoch 4/10\n",
            "938/938 [==============================] - 43s 46ms/step - loss: 0.0295 - accuracy: 0.9905\n",
            "Epoch 5/10\n",
            "938/938 [==============================] - 42s 44ms/step - loss: 0.0231 - accuracy: 0.9932\n",
            "Epoch 6/10\n",
            "938/938 [==============================] - 55s 59ms/step - loss: 0.0183 - accuracy: 0.9943\n",
            "Epoch 7/10\n",
            "938/938 [==============================] - 40s 43ms/step - loss: 0.0147 - accuracy: 0.9953\n",
            "Epoch 8/10\n",
            "938/938 [==============================] - 42s 45ms/step - loss: 0.0118 - accuracy: 0.9961\n",
            "Epoch 9/10\n",
            "938/938 [==============================] - 42s 45ms/step - loss: 0.0100 - accuracy: 0.9966\n",
            "Epoch 10/10\n",
            "938/938 [==============================] - 40s 43ms/step - loss: 0.0091 - accuracy: 0.9971\n"
          ]
        },
        {
          "output_type": "execute_result",
          "data": {
            "text/plain": [
              "<keras.callbacks.History at 0x7f4386cd2680>"
            ]
          },
          "metadata": {},
          "execution_count": 12
        }
      ]
    },
    {
      "cell_type": "code",
      "source": [
        "# Test CNN model\n",
        "test_loss, test_acc = cnn_model.evaluate(test_images, test_labels)\n",
        "\n",
        "print('test loss: {}'.format(test_loss))\n",
        "print('test accuracy: {}'.format(test_acc))"
      ],
      "metadata": {
        "colab": {
          "base_uri": "https://localhost:8080/"
        },
        "id": "CIzN1niyutQ9",
        "outputId": "9ec13c5d-f85d-4cc2-a425-7db4e197260b"
      },
      "execution_count": null,
      "outputs": [
        {
          "output_type": "stream",
          "name": "stdout",
          "text": [
            "313/313 [==============================] - 3s 8ms/step - loss: 0.0329 - accuracy: 0.9896\n",
            "test loss: 0.03292785957455635\n",
            "test accuracy: 0.9896000027656555\n"
          ]
        }
      ]
    },
    {
      "cell_type": "markdown",
      "source": [
        "### Make Predictions with the CNN Model"
      ],
      "metadata": {
        "id": "wZ35bJjbaWnO"
      }
    },
    {
      "cell_type": "code",
      "source": [
        "# Make predictions for all test images\n",
        "predictions = cnn_model.predict(test_images)"
      ],
      "metadata": {
        "colab": {
          "base_uri": "https://localhost:8080/"
        },
        "id": "RcQhrXrTaW8z",
        "outputId": "d66d45ae-db7a-439f-9435-3613955a4b03"
      },
      "execution_count": null,
      "outputs": [
        {
          "output_type": "stream",
          "name": "stdout",
          "text": [
            "313/313 [==============================] - 2s 7ms/step\n"
          ]
        }
      ]
    },
    {
      "cell_type": "code",
      "source": [
        "\"\"\" TODO: Select any index and check your result \"\"\"\n",
        "\n",
        "# Check result for specific image\n",
        "selected_idx = 5\n",
        "raw_prediction = predictions[selected_idx]\n",
        "argmax_prediction = np.argmax(predictions[selected_idx])\n",
        "\n",
        "print('raw predition: {}'.format(raw_prediction))\n",
        "print('argmax prediction: {}'.format(argmax_prediction))"
      ],
      "metadata": {
        "colab": {
          "base_uri": "https://localhost:8080/"
        },
        "id": "mlFsT55nEA9w",
        "outputId": "d82601c1-1bc6-4a42-cef1-e175aa2576af"
      },
      "execution_count": null,
      "outputs": [
        {
          "output_type": "stream",
          "name": "stdout",
          "text": [
            "raw predition: [7.4690094e-09 9.9999994e-01 1.7195370e-11 6.2538336e-15 6.5907111e-09\n",
            " 1.9120234e-09 2.9289757e-09 7.2402475e-09 2.2511733e-10 5.1557244e-12]\n",
            "argmax prediction: 1\n"
          ]
        }
      ]
    },
    {
      "cell_type": "code",
      "source": [
        "# Selected image's label\n",
        "label = test_labels[selected_idx]\n",
        "\n",
        "print('label of its prediction: {}'.format(label))"
      ],
      "metadata": {
        "colab": {
          "base_uri": "https://localhost:8080/"
        },
        "id": "Q11yig1DEHIq",
        "outputId": "86f8ea01-fbba-4f72-a5b0-3d4949b350ee"
      },
      "execution_count": null,
      "outputs": [
        {
          "output_type": "stream",
          "name": "stdout",
          "text": [
            "label of its prediction: 1\n"
          ]
        }
      ]
    },
    {
      "cell_type": "code",
      "source": [
        "# Visualize selected image\n",
        "plt.imshow(test_images[selected_idx,:,:,0], cmap=plt.cm.binary)"
      ],
      "metadata": {
        "colab": {
          "base_uri": "https://localhost:8080/",
          "height": 447
        },
        "id": "aGZqrSEREQEF",
        "outputId": "547985b9-3758-433a-ae45-d4ef29599b52"
      },
      "execution_count": null,
      "outputs": [
        {
          "output_type": "execute_result",
          "data": {
            "text/plain": [
              "<matplotlib.image.AxesImage at 0x7f439d5b4be0>"
            ]
          },
          "metadata": {},
          "execution_count": 17
        },
        {
          "output_type": "display_data",
          "data": {
            "text/plain": [
              "<Figure size 640x480 with 1 Axes>"
            ],
            "image/png": "[encoded data removed]"
          },
          "metadata": {}
        }
      ]
    }
  ]
}