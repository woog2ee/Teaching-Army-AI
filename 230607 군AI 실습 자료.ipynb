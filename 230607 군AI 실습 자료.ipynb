{
  "nbformat": 4,
  "nbformat_minor": 0,
  "metadata": {
    "colab": {
      "provenance": [],
      "gpuType": "T4"
    },
    "kernelspec": {
      "name": "python3",
      "display_name": "Python 3"
    },
    "language_info": {
      "name": "python"
    },
    "accelerator": "GPU"
  },
  "cells": [
    {
      "cell_type": "markdown",
      "source": [
        "230607 수요일 군AI 실습 자료입니다.   \n",
        "본 내용은 IIPL (Intelligent Information Processing Lab) 소속 석사과정 유승욱 조교가 작성하였습니다.   \n",
        "참고 자료: Q Learning with OpenAI Gym, DQN Acrobot-v1\n",
        "\n",
        "> Lecture 6 \n",
        "- Frozen Lake: Set Environment\n",
        "- Frozen Lake: Training\n",
        "- Frozen Lake: Results\n",
        "- Acrobot: Set Environment\n",
        "- Acrobot: Training\n",
        "- Acrobot: Results"
      ],
      "metadata": {
        "id": "4-g_WbRmD3WO"
      }
    },
    {
      "cell_type": "markdown",
      "source": [
        "### Libraries"
      ],
      "metadata": {
        "id": "8IpmJGpkEEYf"
      }
    },
    {
      "cell_type": "code",
      "execution_count": 1,
      "metadata": {
        "id": "AB8RX6tNDF_J"
      },
      "outputs": [],
      "source": [
        "import random\n",
        "import numpy as np\n",
        "import matplotlib.pyplot as plt\n",
        "from tqdm import tqdm\n",
        "\n",
        "from collections import deque\n",
        "import tensorflow as tf\n",
        "from tensorflow.keras.layers import Dense\n",
        "from tensorflow.keras.optimizers import Adam\n",
        "from tensorflow.keras.initializers import RandomUniform\n",
        "\n",
        "import gym"
      ]
    },
    {
      "cell_type": "markdown",
      "source": [
        "### Frozen Lake: Set Environment"
      ],
      "metadata": {
        "id": "kE_ovaPVElBD"
      }
    },
    {
      "cell_type": "code",
      "source": [
        "env = gym.make('FrozenLake-v1', is_slippery=True)"
      ],
      "metadata": {
        "colab": {
          "base_uri": "https://localhost:8080/"
        },
        "id": "MD838WlPEbuw",
        "outputId": "a7f58ea2-f1f9-43f2-a632-d202d6abec29"
      },
      "execution_count": 2,
      "outputs": [
        {
          "output_type": "stream",
          "name": "stderr",
          "text": [
            "/usr/local/lib/python3.10/dist-packages/ipykernel/ipkernel.py:283: DeprecationWarning: `should_run_async` will not call `transform_cell` automatically in the future. Please pass the result to `transformed_cell` argument and any exception that happen during thetransform in `preprocessing_exc_tuple` in IPython 7.17 and above.\n",
            "  and should_run_async(code)\n",
            "/usr/local/lib/python3.10/dist-packages/gym/core.py:317: DeprecationWarning: \u001b[33mWARN: Initializing wrapper in old step API which returns one bool instead of two. It is recommended to set `new_step_api=True` to use new step API. This will be the default behaviour in future.\u001b[0m\n",
            "  deprecation(\n",
            "/usr/local/lib/python3.10/dist-packages/gym/wrappers/step_api_compatibility.py:39: DeprecationWarning: \u001b[33mWARN: Initializing environment in old step API which returns one bool instead of two. It is recommended to set `new_step_api=True` to use new step API. This will be the default behaviour in future.\u001b[0m\n",
            "  deprecation(\n"
          ]
        }
      ]
    },
    {
      "cell_type": "code",
      "source": [
        "\"\"\" TODO: Define state & action size \"\"\"\n",
        "\n",
        "# Define state & action size\n",
        "state_size  = env.observation_space.n\n",
        "action_size = env.action_space.n\n",
        "\n",
        "print(f'Actions: {action_size}, States: {state_size}')"
      ],
      "metadata": {
        "colab": {
          "base_uri": "https://localhost:8080/"
        },
        "id": "uYUsJzX1EwWT",
        "outputId": "ccca411e-2ed3-496a-a8f9-93ac11cdd250"
      },
      "execution_count": 3,
      "outputs": [
        {
          "output_type": "stream",
          "name": "stdout",
          "text": [
            "Actions: 4, States: 16\n"
          ]
        }
      ]
    },
    {
      "cell_type": "code",
      "source": [
        "\"\"\" TODO: Define Q matrix using np.zeros \"\"\"\n",
        "\n",
        "# Define Q matrix\n",
        "Q = np.zeros((state_size, action_size))\n",
        "\n",
        "print(Q)"
      ],
      "metadata": {
        "colab": {
          "base_uri": "https://localhost:8080/"
        },
        "id": "ICznXoAbFLjS",
        "outputId": "fc9216aa-cab3-48cd-86e0-5b33e98c86c4"
      },
      "execution_count": 4,
      "outputs": [
        {
          "output_type": "stream",
          "name": "stdout",
          "text": [
            "[[0. 0. 0. 0.]\n",
            " [0. 0. 0. 0.]\n",
            " [0. 0. 0. 0.]\n",
            " [0. 0. 0. 0.]\n",
            " [0. 0. 0. 0.]\n",
            " [0. 0. 0. 0.]\n",
            " [0. 0. 0. 0.]\n",
            " [0. 0. 0. 0.]\n",
            " [0. 0. 0. 0.]\n",
            " [0. 0. 0. 0.]\n",
            " [0. 0. 0. 0.]\n",
            " [0. 0. 0. 0.]\n",
            " [0. 0. 0. 0.]\n",
            " [0. 0. 0. 0.]\n",
            " [0. 0. 0. 0.]\n",
            " [0. 0. 0. 0.]]\n"
          ]
        }
      ]
    },
    {
      "cell_type": "code",
      "source": [
        "\"\"\" TODO: Return new state, reward, and so on \"\"\"\n",
        "\n",
        "# Check some random actions\n",
        "env.reset()\n",
        "for i in range(10):\n",
        "  random_act = env.action_space.sample()\n",
        "  new_state, reward, done, info = env.step(random_act)\n",
        "  prob = info['prob']\n",
        "  #env.render()\n",
        "  \n",
        "  print(f'new state: {new_state}, reward: {reward}, done: {done}, prob: {info}')\n",
        "  \n",
        "  if done: break"
      ],
      "metadata": {
        "colab": {
          "base_uri": "https://localhost:8080/"
        },
        "id": "6OxDeIm-FVGD",
        "outputId": "c0aadc93-de1e-4d1f-d83d-9a13fe65b946"
      },
      "execution_count": 5,
      "outputs": [
        {
          "output_type": "stream",
          "name": "stdout",
          "text": [
            "new state: 1, reward: 0.0, done: False, prob: {'prob': 0.3333333333333333}\n",
            "new state: 2, reward: 0.0, done: False, prob: {'prob': 0.3333333333333333}\n",
            "new state: 3, reward: 0.0, done: False, prob: {'prob': 0.3333333333333333}\n",
            "new state: 2, reward: 0.0, done: False, prob: {'prob': 0.3333333333333333}\n",
            "new state: 1, reward: 0.0, done: False, prob: {'prob': 0.3333333333333333}\n",
            "new state: 5, reward: 0.0, done: True, prob: {'prob': 0.3333333333333333, 'TimeLimit.truncated': False}\n"
          ]
        }
      ]
    },
    {
      "cell_type": "markdown",
      "source": [
        "### Frozen Lake: Training"
      ],
      "metadata": {
        "id": "-d2dar5dGtyv"
      }
    },
    {
      "cell_type": "code",
      "source": [
        "\"\"\" TODO: Set your own hyper-parameters \"\"\"\n",
        "\n",
        "# Set hyper-parameters\n",
        "lr    = 0.70\n",
        "gamma = 0.90\n",
        "\n",
        "num_episodes = 2000\n",
        "max_steps    = 99"
      ],
      "metadata": {
        "id": "ac1Zol55Fwk5"
      },
      "execution_count": 6,
      "outputs": []
    },
    {
      "cell_type": "code",
      "source": [
        "\"\"\" TODO: Define your Q-learning algorithm \"\"\"\n",
        "\n",
        "reward_lst = []\n",
        "\n",
        "for episode in tqdm(range(num_episodes)):\n",
        "  # Reset environment\n",
        "  state = env.reset()\n",
        "  rewards = 0\n",
        "  done = False\n",
        "\n",
        "  # Decay epsilon greedy\n",
        "  e = 1 / ((i//100) + 1)\n",
        "\n",
        "  # Continue until 'max_steps per episode' or 'done'\n",
        "  step = 0\n",
        "  while step < max_steps:\n",
        "    step += 1\n",
        "\n",
        "    # Choose an action by epsilon\n",
        "    if np.random.rand(1) < e:\n",
        "      action = env.action_space.sample()\n",
        "    else:\n",
        "      action = np.argmax(Q[state, :])\n",
        "\n",
        "    # Update new_state, reward, and so on\n",
        "    new_state, reward, done, info = env.step(action)\n",
        "\n",
        "    # Update Q matrix & variables\n",
        "    Q[state, action] = Q[state, action] +\\\n",
        "                       lr * (reward + gamma * np.max(Q[new_state, :]) - Q[state, action])\n",
        "    rewards += reward\n",
        "    state = new_state\n",
        "\n",
        "    if done == True: break\n",
        "\n",
        "  reward_lst.append(rewards)"
      ],
      "metadata": {
        "colab": {
          "base_uri": "https://localhost:8080/"
        },
        "id": "9SJGvqiEF1_A",
        "outputId": "e72665c8-94e8-4d77-969d-0bcdfc437a1e"
      },
      "execution_count": 7,
      "outputs": [
        {
          "output_type": "stream",
          "name": "stderr",
          "text": [
            "100%|██████████| 2000/2000 [00:01<00:00, 1665.31it/s]\n"
          ]
        }
      ]
    },
    {
      "cell_type": "markdown",
      "source": [
        "### Frozen Lake: Results"
      ],
      "metadata": {
        "id": "brpAcUrSJuJ9"
      }
    },
    {
      "cell_type": "code",
      "source": [
        "print(f'success rate: {str(sum(reward_lst) / num_episodes)}')\n",
        "\n",
        "print('Q after training')\n",
        "print(Q)"
      ],
      "metadata": {
        "colab": {
          "base_uri": "https://localhost:8080/"
        },
        "id": "IiMa1COxPrb4",
        "outputId": "7ecc7a38-9c05-4965-ad52-4ffb19a2570c"
      },
      "execution_count": 8,
      "outputs": [
        {
          "output_type": "stream",
          "name": "stdout",
          "text": [
            "success rate: 0.0165\n",
            "Q after training\n",
            "[[0.36224912 0.34883576 0.39452106 0.34343912]\n",
            " [0.09465499 0.37627066 0.37865796 0.36145794]\n",
            " [0.38427876 0.37833433 0.22952113 0.36139929]\n",
            " [0.43145526 0.37755864 0.35188569 0.36153656]\n",
            " [0.44021499 0.12593929 0.3165019  0.02850285]\n",
            " [0.         0.         0.         0.        ]\n",
            " [0.01318582 0.12619517 0.46998882 0.02992184]\n",
            " [0.         0.         0.         0.        ]\n",
            " [0.03314869 0.47649281 0.53407287 0.48463983]\n",
            " [0.56825352 0.54691027 0.06254579 0.48159104]\n",
            " [0.64352148 0.65436971 0.74907182 0.58335578]\n",
            " [0.         0.         0.         0.        ]\n",
            " [0.         0.         0.         0.        ]\n",
            " [0.04901124 0.13544723 0.6462493  0.48253087]\n",
            " [0.70693096 0.78726692 0.94692713 0.89808089]\n",
            " [0.         0.         0.         0.        ]]\n"
          ]
        }
      ]
    },
    {
      "cell_type": "code",
      "source": [
        "plt.bar(range(len(reward_lst)), reward_lst, color='blue')\n",
        "plt.show()"
      ],
      "metadata": {
        "colab": {
          "base_uri": "https://localhost:8080/",
          "height": 430
        },
        "id": "1iPNtuUJJk_x",
        "outputId": "5f081298-073f-4ce2-b20d-90d5dba834b8"
      },
      "execution_count": 9,
      "outputs": [
        {
          "output_type": "display_data",
          "data": {
            "text/plain": [
              "<Figure size 640x480 with 1 Axes>"
            ],
            "image/png": "[encoded data removed]"
          },
          "metadata": {}
        }
      ]
    },
    {
      "cell_type": "markdown",
      "source": [
        "### Acrobot: Set Environment"
      ],
      "metadata": {
        "id": "JVwPaVZWmG_4"
      }
    },
    {
      "cell_type": "code",
      "source": [
        "env = gym.make('Acrobot-v1')"
      ],
      "metadata": {
        "id": "hicyZfEGmDro"
      },
      "execution_count": 10,
      "outputs": []
    },
    {
      "cell_type": "code",
      "source": [
        "\"\"\" TODO: Define state & action size \"\"\"\n",
        "\n",
        "# Define state & action size\n",
        "state_size  = env.observation_space.shape[0]\n",
        "action_size = env.action_space.n\n",
        "\n",
        "print(f'Actions: {action_size}, States: {state_size}')"
      ],
      "metadata": {
        "colab": {
          "base_uri": "https://localhost:8080/"
        },
        "id": "fIafTAP4mhHs",
        "outputId": "3066a828-3a8d-4694-a14b-624bfdf79f84"
      },
      "execution_count": 11,
      "outputs": [
        {
          "output_type": "stream",
          "name": "stdout",
          "text": [
            "Actions: 3, States: 6\n"
          ]
        }
      ]
    },
    {
      "cell_type": "markdown",
      "source": [
        "### Acrobot: Training"
      ],
      "metadata": {
        "id": "ggFnCqeDoghf"
      }
    },
    {
      "cell_type": "code",
      "source": [
        "# Define neural network\n",
        "class NN(tf.keras.Model):\n",
        "  def __init__(self, action_size):\n",
        "    super(NN, self).__init__()\n",
        "    self.fc1 = Dense(24, activation='relu')\n",
        "    self.fc2 = Dense(24, activation='relu')\n",
        "    self.fc_out = Dense(action_size, kernel_initializer=RandomUniform(-1e-3, 1e-3))\n",
        "\n",
        "  def call(self, x):\n",
        "    x = self.fc1(x)\n",
        "    x = self.fc2(x)\n",
        "    q = self.fc_out(x)\n",
        "    return q"
      ],
      "metadata": {
        "id": "U9e7M-Dcml_u"
      },
      "execution_count": 12,
      "outputs": []
    },
    {
      "cell_type": "code",
      "source": [
        "\"\"\" TODO: Define your Q-learning algorithm \"\"\"\n",
        "\n",
        "# Define deep Q-learning\n",
        "class DQN:\n",
        "  def __init__(self, state_size, action_size):\n",
        "    self.state_size = state_size\n",
        "    self.action_size = action_size\n",
        "\n",
        "    self.discount_factor = 0.99\n",
        "    self.learning_rate   = 0.001\n",
        "    self.epsilon         = 1.0\n",
        "    self.epsilon_decay   = 0.999\n",
        "    self.epsilon_min     = 0.001\n",
        "    self.batch_size      = 64\n",
        "    self.train_start     = 1000\n",
        "\n",
        "    self.memory = deque(maxlen=2000)\n",
        "\n",
        "    self.model = NN(self.action_size)\n",
        "    self.target_model = NN(self.action_size)\n",
        "    self.optimizer = Adam(learning_rate=self.learning_rate)\n",
        "\n",
        "    self.update_target_model()\n",
        "\n",
        "  def update_target_model(self):\n",
        "    self.target_model.set_weights(self.model.get_weights())\n",
        "\n",
        "  def get_action(self, state):\n",
        "    # Choose an action by epsilon\n",
        "    if np.random.rand() <= self.epsilon:\n",
        "      return random.randrange(self.action_size)\n",
        "    else:\n",
        "      q = self.model(state)\n",
        "      return np.argmax(q[0])\n",
        "\n",
        "  def append_sample(self, state, action, reward, next_state, done):\n",
        "    # Add selected sample to the queue\n",
        "    self.memory.append((state, action, reward, next_state, done))\n",
        "\n",
        "  def train_model(self):\n",
        "    # Apply epsilon decay\n",
        "    if self.epsilon > self.epsilon_min:\n",
        "      self.epsilon *= self.epsilon_decay\n",
        "\n",
        "    # Make result arrays\n",
        "    mini_batch = random.sample(self.memory, self.batch_size)\n",
        "    states      = np.array([sample[0][0] for sample in mini_batch])\n",
        "    actions     = np.array([sample[1] for sample in mini_batch])\n",
        "    rewards     = np.array([sample[2] for sample in mini_batch])\n",
        "    next_states = np.array([sample[3][0] for sample in mini_batch])\n",
        "    dones       = np.array([sample[4] for sample in mini_batch])\n",
        "\n",
        "    # Make prediction using neural network\n",
        "    model_params = self.model.trainable_variables\n",
        "    with tf.GradientTape() as tape:\n",
        "      predicts = self.model(states)\n",
        "      one_hot_action = tf.one_hot(actions, self.action_size)\n",
        "      predicts = tf.reduce_sum(one_hot_action * predicts, axis=1)\n",
        "\n",
        "      target_predicts = self.target_model(next_states)\n",
        "      target_predicts = tf.stop_gradient(target_predicts)\n",
        "\n",
        "      max_q = np.amax(target_predicts, axis=-1)\n",
        "      targets = rewards + (1-dones) * self.discount_factor * max_q\n",
        "      loss = tf.reduce_mean(tf.square(targets - predicts))\n",
        "\n",
        "    grads = tape.gradient(loss, model_params)\n",
        "    self.optimizer.apply_gradients(zip(grads, model_params))"
      ],
      "metadata": {
        "id": "Y2kyWSP8pASD"
      },
      "execution_count": 13,
      "outputs": []
    },
    {
      "cell_type": "code",
      "source": [
        "\"\"\" TODO: Define your Q-learning algorithm \"\"\"\n",
        "\n",
        "agent = DQN(state_size, action_size)\n",
        "\n",
        "scores, episodes = [], []\n",
        "score_avg = 0\n",
        "\n",
        "num_episodes = 50\n",
        "\n",
        "for episode in range(num_episodes):\n",
        "  # Reset environment\n",
        "  state = env.reset()\n",
        "  state = np.reshape(state, [1, state_size])\n",
        "  score = 0\n",
        "  done = False\n",
        "\n",
        "  while not done:\n",
        "    # Choose an action by DQN\n",
        "    #env.render()\n",
        "    action = agent.get_action(state)\n",
        "\n",
        "    # Update new_state, reward, and so on\n",
        "    next_state, reward, done, info = env.step(action)\n",
        "    next_state = np.reshape(next_state, [1, state_size])\n",
        "\n",
        "    # Give reward by its arm's height\n",
        "    reward = -(next_state[0][0]) - (next_state[0][0]*next_state[0][1] - next_state[0][2]*next_state[0][3])\n",
        "    score += reward\n",
        "    agent.append_sample(state, action, reward, next_state, done)\n",
        "\n",
        "    # Decide when to start training\n",
        "    if len(agent.memory) >= agent.train_start:\n",
        "      agent.train_model()\n",
        "\n",
        "    # Update variables\n",
        "    score_avg = score_avg * 0.9 + 0.1 * score       \n",
        "    state = next_state\n",
        "\n",
        "    # Update final score when done\n",
        "    if done:\n",
        "      agent.update_target_model()\n",
        "      print(f'episode: {episode} | score: {score_avg}')\n",
        "      scores.append(score_avg)\n",
        "      episodes.append(episode)"
      ],
      "metadata": {
        "colab": {
          "base_uri": "https://localhost:8080/"
        },
        "id": "kyyWb4q8pIoe",
        "outputId": "a9dca896-55b9-4e9b-ba0c-0e98fe6ff17e"
      },
      "execution_count": 14,
      "outputs": [
        {
          "output_type": "stream",
          "name": "stdout",
          "text": [
            "episode: 0 | score: -448.43546453907396\n",
            "episode: 1 | score: -472.60067040603997\n"
          ]
        },
        {
          "output_type": "stream",
          "name": "stderr",
          "text": [
            "WARNING:tensorflow:5 out of the last 5 calls to <function _BaseOptimizer._update_step_xla at 0x7f1d75e9c9d0> triggered tf.function retracing. Tracing is expensive and the excessive number of tracings could be due to (1) creating @tf.function repeatedly in a loop, (2) passing tensors with different shapes, (3) passing Python objects instead of tensors. For (1), please define your @tf.function outside of the loop. For (2), @tf.function has reduce_retracing=True option that can avoid unnecessary retracing. For (3), please refer to https://www.tensorflow.org/guide/function#controlling_retracing and https://www.tensorflow.org/api_docs/python/tf/function for  more details.\n",
            "WARNING:tensorflow:6 out of the last 6 calls to <function _BaseOptimizer._update_step_xla at 0x7f1d75e9c9d0> triggered tf.function retracing. Tracing is expensive and the excessive number of tracings could be due to (1) creating @tf.function repeatedly in a loop, (2) passing tensors with different shapes, (3) passing Python objects instead of tensors. For (1), please define your @tf.function outside of the loop. For (2), @tf.function has reduce_retracing=True option that can avoid unnecessary retracing. For (3), please refer to https://www.tensorflow.org/guide/function#controlling_retracing and https://www.tensorflow.org/api_docs/python/tf/function for  more details.\n"
          ]
        },
        {
          "output_type": "stream",
          "name": "stdout",
          "text": [
            "episode: 2 | score: -467.7373381227032\n",
            "episode: 3 | score: -422.645208912153\n",
            "episode: 4 | score: -403.00914704992715\n",
            "episode: 5 | score: -368.5723795481564\n",
            "episode: 6 | score: -349.2396802007526\n",
            "episode: 7 | score: -355.79363353495864\n",
            "episode: 8 | score: -341.0160284891418\n",
            "episode: 9 | score: -332.04942164589437\n",
            "episode: 10 | score: -333.9496687428372\n",
            "episode: 11 | score: -332.33957124277674\n",
            "episode: 12 | score: -336.94458474654755\n",
            "episode: 13 | score: -340.08479017510007\n",
            "episode: 14 | score: -331.1074601830489\n",
            "episode: 15 | score: -331.5731012342426\n",
            "episode: 16 | score: -332.5827186512846\n",
            "episode: 17 | score: -333.1741508317791\n",
            "episode: 18 | score: -332.83414338305226\n",
            "episode: 19 | score: -343.2610200967643\n",
            "episode: 20 | score: -337.362477152879\n",
            "episode: 21 | score: -206.385159351721\n",
            "episode: 22 | score: -79.93790955444038\n",
            "episode: 23 | score: -131.92167933358934\n",
            "episode: 24 | score: -74.98706760749587\n",
            "episode: 25 | score: -53.09170039005612\n",
            "episode: 26 | score: -116.08475564486727\n",
            "episode: 27 | score: -332.822498251343\n",
            "episode: 28 | score: -333.2423633549294\n",
            "episode: 29 | score: -330.6333879974678\n",
            "episode: 30 | score: -332.98269608441694\n",
            "episode: 31 | score: -333.3876618419665\n",
            "episode: 32 | score: -331.7332712426761\n",
            "episode: 33 | score: -335.0109055992484\n",
            "episode: 34 | score: -341.1353366465132\n",
            "episode: 35 | score: -331.33287180191735\n",
            "episode: 36 | score: -331.91231022782745\n",
            "episode: 37 | score: -331.3819223416184\n",
            "episode: 38 | score: -331.62225859649897\n",
            "episode: 39 | score: -338.43920095692687\n",
            "episode: 40 | score: -332.60208970827347\n",
            "episode: 41 | score: -333.91554879114693\n",
            "episode: 42 | score: -330.34997654438564\n",
            "episode: 43 | score: -332.73858227401826\n",
            "episode: 44 | score: -335.0310625038542\n",
            "episode: 45 | score: -332.45679557676357\n",
            "episode: 46 | score: -331.5270442004164\n",
            "episode: 47 | score: -376.0807032277156\n",
            "episode: 48 | score: -402.7804487714301\n",
            "episode: 49 | score: -333.2995402130398\n"
          ]
        }
      ]
    },
    {
      "cell_type": "markdown",
      "source": [
        "### Acrobot: Results"
      ],
      "metadata": {
        "id": "RL-Accuhrk88"
      }
    },
    {
      "cell_type": "code",
      "source": [
        "plt.plot(episodes, scores)"
      ],
      "metadata": {
        "colab": {
          "base_uri": "https://localhost:8080/",
          "height": 447
        },
        "id": "EmyUsWcMrKHA",
        "outputId": "566282c4-a5fb-4bc5-a6de-c0c26858ae6e"
      },
      "execution_count": 15,
      "outputs": [
        {
          "output_type": "execute_result",
          "data": {
            "text/plain": [
              "[<matplotlib.lines.Line2D at 0x7f1d70f834f0>]"
            ]
          },
          "metadata": {},
          "execution_count": 15
        },
        {
          "output_type": "display_data",
          "data": {
            "text/plain": [
              "<Figure size 640x480 with 1 Axes>"
            ],
            "image/png": "[encoded data removed]"
          },
          "metadata": {}
        }
      ]
    }
  ]
}