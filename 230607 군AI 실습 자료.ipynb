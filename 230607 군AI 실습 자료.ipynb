{
  "nbformat": 4,
  "nbformat_minor": 0,
  "metadata": {
    "colab": {
      "provenance": [],
      "gpuType": "T4"
    },
    "kernelspec": {
      "name": "python3",
      "display_name": "Python 3"
    },
    "language_info": {
      "name": "python"
    },
    "accelerator": "GPU"
  },
  "cells": [
    {
      "cell_type": "markdown",
      "source": [
        "230607 수요일 군AI 실습 자료입니다.   \n",
        "본 내용은 IIPL (Intelligent Information Processing Lab) 소속 석사과정 유승욱 조교가 작성하였습니다.   \n",
        "참고 자료: Q Learning with OpenAI Gym\n",
        "\n",
        "> Lecture 6 \n",
        "- Frozen Lake: Set Environment\n",
        "- Frozen Lake: Training\n",
        "- Frozen Lake: Results"
      ],
      "metadata": {
        "id": "4-g_WbRmD3WO"
      }
    },
    {
      "cell_type": "markdown",
      "source": [
        "### Libraries"
      ],
      "metadata": {
        "id": "8IpmJGpkEEYf"
      }
    },
    {
      "cell_type": "code",
      "execution_count": 1,
      "metadata": {
        "id": "AB8RX6tNDF_J"
      },
      "outputs": [],
      "source": [
        "import gym\n",
        "import numpy as np\n",
        "import matplotlib.pyplot as plt\n",
        "from tqdm import tqdm"
      ]
    },
    {
      "cell_type": "markdown",
      "source": [
        "### Frozen Lake: Set Environment"
      ],
      "metadata": {
        "id": "kE_ovaPVElBD"
      }
    },
    {
      "cell_type": "code",
      "source": [
        "env = gym.make('FrozenLake-v1', is_slippery=True)"
      ],
      "metadata": {
        "colab": {
          "base_uri": "https://localhost:8080/"
        },
        "id": "MD838WlPEbuw",
        "outputId": "5be6c1fa-02bd-4def-ba1e-c2144426335d"
      },
      "execution_count": 2,
      "outputs": [
        {
          "output_type": "stream",
          "name": "stderr",
          "text": [
            "/usr/local/lib/python3.10/dist-packages/ipykernel/ipkernel.py:283: DeprecationWarning: `should_run_async` will not call `transform_cell` automatically in the future. Please pass the result to `transformed_cell` argument and any exception that happen during thetransform in `preprocessing_exc_tuple` in IPython 7.17 and above.\n",
            "  and should_run_async(code)\n",
            "/usr/local/lib/python3.10/dist-packages/gym/core.py:317: DeprecationWarning: \u001b[33mWARN: Initializing wrapper in old step API which returns one bool instead of two. It is recommended to set `new_step_api=True` to use new step API. This will be the default behaviour in future.\u001b[0m\n",
            "  deprecation(\n",
            "/usr/local/lib/python3.10/dist-packages/gym/wrappers/step_api_compatibility.py:39: DeprecationWarning: \u001b[33mWARN: Initializing environment in old step API which returns one bool instead of two. It is recommended to set `new_step_api=True` to use new step API. This will be the default behaviour in future.\u001b[0m\n",
            "  deprecation(\n"
          ]
        }
      ]
    },
    {
      "cell_type": "code",
      "source": [
        "\"\"\" TODO: Define state & action size \"\"\"\n",
        "\n",
        "# Define state & action size\n",
        "state_size  = env.observation_space.n\n",
        "action_size = env.action_space.n\n",
        "\n",
        "print(f'Actions: {action_size}, States: {state_size}')"
      ],
      "metadata": {
        "colab": {
          "base_uri": "https://localhost:8080/"
        },
        "id": "uYUsJzX1EwWT",
        "outputId": "0db8ac6c-eb10-4ae9-e90b-e98d35a8fcf2"
      },
      "execution_count": 3,
      "outputs": [
        {
          "output_type": "stream",
          "name": "stdout",
          "text": [
            "Actions: 4, States: 16\n"
          ]
        }
      ]
    },
    {
      "cell_type": "code",
      "source": [
        "\"\"\" TODO: Define Q matrix using np.zeros \"\"\"\n",
        "\n",
        "# Define Q matrix\n",
        "Q = np.zeros((state_size, action_size))\n",
        "\n",
        "print(Q)"
      ],
      "metadata": {
        "colab": {
          "base_uri": "https://localhost:8080/"
        },
        "id": "ICznXoAbFLjS",
        "outputId": "66d26e62-86ce-48ef-83ee-24dbef3f0d3b"
      },
      "execution_count": 4,
      "outputs": [
        {
          "output_type": "stream",
          "name": "stdout",
          "text": [
            "[[0. 0. 0. 0.]\n",
            " [0. 0. 0. 0.]\n",
            " [0. 0. 0. 0.]\n",
            " [0. 0. 0. 0.]\n",
            " [0. 0. 0. 0.]\n",
            " [0. 0. 0. 0.]\n",
            " [0. 0. 0. 0.]\n",
            " [0. 0. 0. 0.]\n",
            " [0. 0. 0. 0.]\n",
            " [0. 0. 0. 0.]\n",
            " [0. 0. 0. 0.]\n",
            " [0. 0. 0. 0.]\n",
            " [0. 0. 0. 0.]\n",
            " [0. 0. 0. 0.]\n",
            " [0. 0. 0. 0.]\n",
            " [0. 0. 0. 0.]]\n"
          ]
        }
      ]
    },
    {
      "cell_type": "code",
      "source": [
        "\"\"\" TODO: Return new state, reward, and so on \"\"\"\n",
        "\n",
        "# Check some random actions\n",
        "env.reset()\n",
        "for i in range(10):\n",
        "  random_act = env.action_space.sample()\n",
        "  new_state, reward, done, info = env.step(random_act)\n",
        "  prob = info['prob']\n",
        "  #env.render()\n",
        "  \n",
        "  print(f'new state: {new_state}, reward: {reward}, done: {done}, prob: {info}')\n",
        "  \n",
        "  if done: break"
      ],
      "metadata": {
        "colab": {
          "base_uri": "https://localhost:8080/"
        },
        "id": "6OxDeIm-FVGD",
        "outputId": "335c7bac-0ef7-4320-8059-8b4ca37ccdaf"
      },
      "execution_count": 5,
      "outputs": [
        {
          "output_type": "stream",
          "name": "stdout",
          "text": [
            "new state: 0, reward: 0.0, done: False, prob: {'prob': 0.3333333333333333}\n",
            "new state: 1, reward: 0.0, done: False, prob: {'prob': 0.3333333333333333}\n",
            "new state: 1, reward: 0.0, done: False, prob: {'prob': 0.3333333333333333}\n",
            "new state: 1, reward: 0.0, done: False, prob: {'prob': 0.3333333333333333}\n",
            "new state: 5, reward: 0.0, done: True, prob: {'prob': 0.3333333333333333, 'TimeLimit.truncated': False}\n"
          ]
        }
      ]
    },
    {
      "cell_type": "markdown",
      "source": [
        "### Frozen Lake: Training"
      ],
      "metadata": {
        "id": "-d2dar5dGtyv"
      }
    },
    {
      "cell_type": "code",
      "source": [
        "\"\"\" TODO: Set your own hyper-parameters \"\"\"\n",
        "\n",
        "# Set hyper-parameters\n",
        "lr    = 0.70\n",
        "gamma = 0.90\n",
        "\n",
        "num_episodes = 2000\n",
        "max_steps    = 99"
      ],
      "metadata": {
        "id": "ac1Zol55Fwk5"
      },
      "execution_count": 26,
      "outputs": []
    },
    {
      "cell_type": "code",
      "source": [
        "\"\"\" TODO: Define your Q-learning algorithm \"\"\"\n",
        "\n",
        "reward_lst = []\n",
        "\n",
        "for episode in tqdm(range(num_episodes)):\n",
        "  # Reset environment\n",
        "  state = env.reset()\n",
        "  rewards = 0\n",
        "  done = False\n",
        "\n",
        "  # Decay epsilon greedy\n",
        "  e = 1 / ((i//100) + 1)\n",
        "\n",
        "  # Continue until 'max_steps per episode' or 'done'\n",
        "  step = 0\n",
        "  while step < max_steps:\n",
        "    step += 1\n",
        "\n",
        "    # Choose an action by epsilon\n",
        "    if np.random.rand(1) < e:\n",
        "      action = env.action_space.sample()\n",
        "    else:\n",
        "      action = np.argmax(Q[state, :])\n",
        "\n",
        "    # Update new_state, reward\n",
        "    new_state, reward, done, info = env.step(action)\n",
        "\n",
        "    # Update Q matrix & values\n",
        "    Q[state, action] = Q[state, action] +\\\n",
        "                       lr * (reward + gamma * np.max(Q[new_state, :]) - Q[state, action])\n",
        "    rewards += reward\n",
        "    state = new_state\n",
        "\n",
        "    if done == True: break\n",
        "\n",
        "  reward_lst.append(rewards)"
      ],
      "metadata": {
        "colab": {
          "base_uri": "https://localhost:8080/"
        },
        "id": "9SJGvqiEF1_A",
        "outputId": "c10461ac-7896-49f7-8817-84989b73e799"
      },
      "execution_count": 27,
      "outputs": [
        {
          "output_type": "stream",
          "name": "stderr",
          "text": [
            "100%|██████████| 2000/2000 [00:01<00:00, 1833.40it/s]\n"
          ]
        }
      ]
    },
    {
      "cell_type": "markdown",
      "source": [
        "### Frozen Lake: Results"
      ],
      "metadata": {
        "id": "brpAcUrSJuJ9"
      }
    },
    {
      "cell_type": "code",
      "source": [
        "print(f'success rate: {str(sum(reward_lst) / num_episodes)}')\n",
        "\n",
        "print('Q after training')\n",
        "print(Q)"
      ],
      "metadata": {
        "colab": {
          "base_uri": "https://localhost:8080/"
        },
        "id": "IiMa1COxPrb4",
        "outputId": "15a1e62c-c033-4ca2-ce13-ab8423b7d127"
      },
      "execution_count": 28,
      "outputs": [
        {
          "output_type": "stream",
          "name": "stdout",
          "text": [
            "score over time: 0.013\n",
            "Q after training\n",
            "[[0.3628072  0.40046263 0.34291617 0.36836078]\n",
            " [0.0848206  0.35386387 0.31043752 0.37119473]\n",
            " [0.47762234 0.37905638 0.53685861 0.40799036]\n",
            " [0.36189721 0.37857308 0.09707635 0.38230518]\n",
            " [0.34177606 0.0073316  0.46097826 0.02962244]\n",
            " [0.         0.         0.         0.        ]\n",
            " [0.6534519  0.54102894 0.10961537 0.35180255]\n",
            " [0.         0.         0.         0.        ]\n",
            " [0.48295226 0.12024901 0.59592845 0.50259758]\n",
            " [0.10542749 0.60678172 0.47578151 0.70452335]\n",
            " [0.51743354 0.79174168 0.02156683 0.07384231]\n",
            " [0.         0.         0.         0.        ]\n",
            " [0.         0.         0.         0.        ]\n",
            " [0.01470595 0.69552775 0.79855742 0.58226233]\n",
            " [0.70632948 0.95551652 0.98207036 0.69999876]\n",
            " [0.         0.         0.         0.        ]]\n"
          ]
        }
      ]
    },
    {
      "cell_type": "code",
      "source": [
        "plt.bar(range(len(reward_lst)), reward_lst, color='blue')\n",
        "plt.show()"
      ],
      "metadata": {
        "colab": {
          "base_uri": "https://localhost:8080/",
          "height": 430
        },
        "id": "1iPNtuUJJk_x",
        "outputId": "7e144deb-9009-44ca-b9e1-3c07c2303525"
      },
      "execution_count": 29,
      "outputs": [
        {
          "output_type": "display_data",
          "data": {
            "text/plain": [
              "<Figure size 640x480 with 1 Axes>"
            ],
            "image/png": "[encoded data removed]"
          },
          "metadata": {}
        }
      ]
    }
  ]
}