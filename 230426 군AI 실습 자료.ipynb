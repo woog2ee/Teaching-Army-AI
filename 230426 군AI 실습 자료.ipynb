{
  "nbformat": 4,
  "nbformat_minor": 0,
  "metadata": {
    "colab": {
      "provenance": []
    },
    "kernelspec": {
      "name": "python3",
      "display_name": "Python 3"
    },
    "language_info": {
      "name": "python"
    }
  },
  "cells": [
    {
      "cell_type": "markdown",
      "source": [
        "230426 수요일 군AI 실습 자료입니다.   \n",
        "본 내용은 IIPL (Intelligent Information Processing Lab) 소속 석사과정 유승욱 조교가 작성하였습니다.   \n",
        "참고 자료: MIT Introduction to Deep Learning 6.S191: Lecture 2\n",
        "\n",
        "> Lecture 2   \n",
        "- Custom RNN\n",
        "- Tensorflow RNN\n",
        "- Advanced Example: Predict the Next Word\n"
      ],
      "metadata": {
        "id": "dlVwTZegh6DV"
      }
    },
    {
      "cell_type": "markdown",
      "source": [
        "### Libraries"
      ],
      "metadata": {
        "id": "Z47yMbOSjdfY"
      }
    },
    {
      "cell_type": "code",
      "execution_count": null,
      "metadata": {
        "id": "1pMtLss9hO2n"
      },
      "outputs": [],
      "source": [
        "import numpy as np\n",
        "import tensorflow as tf\n",
        "\n",
        "from tensorflow.keras.preprocessing.text import Tokenizer\n",
        "from tensorflow.keras.preprocessing.sequence import pad_sequences\n",
        "from tensorflow.keras.utils import to_categorical\n",
        "\n",
        "from tensorflow.keras.models import Sequential\n",
        "from tensorflow.keras.layers import Embedding, Dense, SimpleRNN"
      ]
    },
    {
      "cell_type": "markdown",
      "source": [
        "### Custom Recurrent Neural Network (RNN)"
      ],
      "metadata": {
        "id": "YCiKhm7ijfj7"
      }
    },
    {
      "cell_type": "code",
      "source": [
        "\"\"\" TODO: Make your custom RNN layer \"\"\"\n",
        "\n",
        "class OurRNNLayers(tf.keras.layers.Layer):\n",
        "  def __init__(self, rnn_units, input_dim, output_dim):\n",
        "    super(OurRNNLayers, self).__init__()\n",
        "\n",
        "    # Initialize weight matrices\n",
        "    self.W_xh = self.add_weight(shape=[rnn_units, input_dim])\n",
        "    self.W_hh = self.add_weight(shape=[rnn_units, rnn_units])\n",
        "    self.W_hy = self.add_weight(shape=[output_dim, rnn_units])\n",
        "\n",
        "    # Initialize hidden state to zeros\n",
        "    self.h = tf.zeros([rnn_units, 1])\n",
        "\n",
        "    # Get the tensor data types\n",
        "    print(f'W_xh dtype: {self.W_xh.dtype}')\n",
        "    print(f'W_hh dtype: {self.W_hh.dtype}')\n",
        "    print(f'W_hy dtype: {self.W_hy.dtype}')\n",
        "    print(f'W_h  dtype: {self.h.dtype}')\n",
        "\n",
        "  def call(self, x):\n",
        "    # Update the hidden state\n",
        "    self.h = tf.math.tanh(self.W_hh * self.h + self.W_xh * x)\n",
        "\n",
        "    # Compute the output\n",
        "    output = self.W_hy * self.h\n",
        "\n",
        "    # Return the current output and hidden state\n",
        "    return output, self.h"
      ],
      "metadata": {
        "id": "8v4op8C1vT6Y"
      },
      "execution_count": null,
      "outputs": []
    },
    {
      "cell_type": "code",
      "source": [
        "custom_layer = OurRNNLayers(3, 3, 3)\n",
        "\n",
        "x_input = tf.constant(np.arange(9), dtype=tf.float32, shape=[3, 3])\n",
        "y       = custom_layer.call(x_input)"
      ],
      "metadata": {
        "colab": {
          "base_uri": "https://localhost:8080/"
        },
        "id": "fxuicUMKxZ9M",
        "outputId": "ee717599-5026-4ad8-ef7a-c5bb46728b3f"
      },
      "execution_count": null,
      "outputs": [
        {
          "output_type": "stream",
          "name": "stdout",
          "text": [
            "W_xh dtype: <dtype: 'float32'>\n",
            "W_hh dtype: <dtype: 'float32'>\n",
            "W_hy dtype: <dtype: 'float32'>\n",
            "W_h  dtype: <dtype: 'float32'>\n"
          ]
        }
      ]
    },
    {
      "cell_type": "code",
      "source": [
        "print('input      :')\n",
        "print('{}'.format(x_input))\n",
        "print('input shape: {}\\n'.format(x_input.shape))\n",
        "\n",
        "print('output      :')\n",
        "print('{}'.format(y[0].numpy()))\n",
        "print('output shape: {}\\n'.format(y[0].numpy().shape))\n",
        "\n",
        "print('hidden state      :')\n",
        "print('{}'.format(y[1].numpy()))\n",
        "print('hidden state shape: {}'.format(y[1].numpy().shape))"
      ],
      "metadata": {
        "colab": {
          "base_uri": "https://localhost:8080/"
        },
        "id": "_Xs9OEk3xuj5",
        "outputId": "9df95ff7-3590-406d-e51b-c6554482bdee"
      },
      "execution_count": null,
      "outputs": [
        {
          "output_type": "stream",
          "name": "stdout",
          "text": [
            "input      :\n",
            "[[0. 1. 2.]\n",
            " [3. 4. 5.]\n",
            " [6. 7. 8.]]\n",
            "input shape: (3, 3)\n",
            "\n",
            "output      :\n",
            "[[ 0.         -0.2840717   0.6898853 ]\n",
            " [-0.44379663 -0.88085365  0.42636508]\n",
            " [ 0.57483065 -0.7634045   0.33912504]]\n",
            "output shape: (3, 3)\n",
            "\n",
            "hidden state      :\n",
            "[[-0.         -0.6978307   0.92345816]\n",
            " [-0.84835994  0.95663047 -0.9988465 ]\n",
            " [ 0.9999625   0.9999967  -0.99998415]]\n",
            "hidden state shape: (3, 3)\n"
          ]
        }
      ]
    },
    {
      "cell_type": "markdown",
      "source": [
        "### Tensorflow Recurrent Neural Network (RNN)"
      ],
      "metadata": {
        "id": "qjl3Bo6w9Tgy"
      }
    },
    {
      "cell_type": "code",
      "source": [
        "\"\"\" TODO: Make your RNN layer using TensorFlow \"\"\"\n",
        "\n",
        "class TFRNNLayers(tf.keras.Model):\n",
        "  def __init__(self, rnn_units):\n",
        "    super(TFRNNLayers, self).__init__()\n",
        "    self.rnn_layer = tf.keras.layers.SimpleRNN(rnn_units,\n",
        "                                               return_sequences=True,\n",
        "                                               return_state=True)\n",
        "\n",
        "  def call(self, x):\n",
        "    # Forward propagate the inputs\n",
        "    # Using a tensorflow RNN layers\n",
        "    hidden_state, last_hidden_state = self.rnn_layer(x)\n",
        "    return hidden_state, last_hidden_state"
      ],
      "metadata": {
        "id": "dpv4LTHux-tf"
      },
      "execution_count": null,
      "outputs": []
    },
    {
      "cell_type": "code",
      "source": [
        "custom_layer = TFRNNLayers(3)\n",
        "\n",
        "x_input = tf.constant(np.arange(9), dtype=tf.float32, shape=[1, 3, 3])\n",
        "y       = custom_layer.call(x_input)"
      ],
      "metadata": {
        "id": "knhQB9GR_mrc"
      },
      "execution_count": null,
      "outputs": []
    },
    {
      "cell_type": "code",
      "source": [
        "print('input      :')\n",
        "print('{}'.format(x_input))\n",
        "print('input shape: {}\\n'.format(x_input.shape))\n",
        "\n",
        "print('hidden state      :')\n",
        "print('{}'.format(y[0].numpy()))\n",
        "print('hidden state shape: {}\\n'.format(y[0].numpy().shape))\n",
        "\n",
        "print('last hidden state      :')\n",
        "print('{}'.format(y[1].numpy()))\n",
        "print('last hidden state shape: {}'.format(y[1].numpy().shape))"
      ],
      "metadata": {
        "colab": {
          "base_uri": "https://localhost:8080/"
        },
        "id": "0Zlk1c1y_2vz",
        "outputId": "5a3ccbc1-2722-48fe-cd36-8ac69a0f7f94"
      },
      "execution_count": null,
      "outputs": [
        {
          "output_type": "stream",
          "name": "stdout",
          "text": [
            "input      :\n",
            "[[[0. 1. 2.]\n",
            "  [3. 4. 5.]\n",
            "  [6. 7. 8.]]]\n",
            "input shape: (1, 3, 3)\n",
            "\n",
            "hidden state      :\n",
            "[[[-0.96983844  0.5901406  -0.53735435]\n",
            "  [-1.          0.02622417  0.9913523 ]\n",
            "  [-1.          0.05540484  0.99913245]]]\n",
            "hidden state shape: (1, 3, 3)\n",
            "\n",
            "last hidden state      :\n",
            "[[-1.          0.05540484  0.99913245]]\n",
            "last hidden state shape: (1, 3)\n"
          ]
        }
      ]
    },
    {
      "cell_type": "markdown",
      "source": [
        "### Advanced Example: Predict the Next Word"
      ],
      "metadata": {
        "id": "tErowAYo2OMm"
      }
    },
    {
      "cell_type": "code",
      "source": [
        "# Define example sentences for training\n",
        "sentences = ['저는 지금 배가 너무 고파요',\n",
        "             '오늘은 배를 채우러 갈 시간이에요',\n",
        "             '지금 점심을 먹으러 가고 싶어요',\n",
        "             '오늘은 점심을 먹으러 갈 거에요',\n",
        "             '배가 고프니까 저는 점심을 먹을래요',\n",
        "             '오늘은 내가 짜파게티 요리사',\n",
        "             '내가 만든 점심을 누가 먹고 싶나요',\n",
        "             '배가 고프면 먹으러 갈까요 점심을',\n",
        "             '저는 점심 시간이 너무 좋아요',\n",
        "             '저는 짜파게티를 점심으로 먹고 싶어']"
      ],
      "metadata": {
        "id": "jDC-AyNvFUg8"
      },
      "execution_count": null,
      "outputs": []
    },
    {
      "cell_type": "code",
      "source": [
        "\"\"\" TODO: Make vocabulary using train data \"\"\"\n",
        "\n",
        "# Define tokenizer and make vocab\n",
        "tokenizer = Tokenizer()\n",
        "tokenizer.fit_on_texts(sentences)\n",
        "vocab_size = len(tokenizer.word_index) + 1\n",
        "\n",
        "print('vocab size: {}'.format(vocab_size))\n",
        "print('all tokens in vocab: {}'.format(tokenizer.word_index))"
      ],
      "metadata": {
        "colab": {
          "base_uri": "https://localhost:8080/"
        },
        "id": "GAbHLlkeF2XL",
        "outputId": "297c908b-6a89-45f1-c372-94ee4a52a468"
      },
      "execution_count": null,
      "outputs": [
        {
          "output_type": "stream",
          "name": "stdout",
          "text": [
            "vocab size: 33\n",
            "all tokens in vocab: {'점심을': 1, '저는': 2, '배가': 3, '오늘은': 4, '먹으러': 5, '지금': 6, '너무': 7, '갈': 8, '내가': 9, '먹고': 10, '고파요': 11, '배를': 12, '채우러': 13, '시간이에요': 14, '가고': 15, '싶어요': 16, '거에요': 17, '고프니까': 18, '먹을래요': 19, '짜파게티': 20, '요리사': 21, '만든': 22, '누가': 23, '싶나요': 24, '고프면': 25, '갈까요': 26, '점심': 27, '시간이': 28, '좋아요': 29, '짜파게티를': 30, '점심으로': 31, '싶어': 32}\n"
          ]
        }
      ]
    },
    {
      "cell_type": "code",
      "source": [
        "# Tokenize sentence (example)\n",
        "sentence = sentences[0]\n",
        "encoded  = tokenizer.texts_to_sequences([sentence])[0]\n",
        "\n",
        "print('origin sentence: {}'.format(sentence))\n",
        "print('encoded sentence: {}'.format(encoded))"
      ],
      "metadata": {
        "colab": {
          "base_uri": "https://localhost:8080/"
        },
        "id": "2ERMNKsbHkv6",
        "outputId": "f43a3150-dd63-4bf8-d941-db546586c7b1"
      },
      "execution_count": null,
      "outputs": [
        {
          "output_type": "stream",
          "name": "stdout",
          "text": [
            "origin sentence: 저는 지금 배가 너무 고파요\n",
            "encoded sentence: [2, 6, 3, 7, 11]\n"
          ]
        }
      ]
    },
    {
      "cell_type": "code",
      "source": [
        "# Make train data\n",
        "sequences = list()\n",
        "for line in sentences:\n",
        "  encoded = tokenizer.texts_to_sequences([line])[0]\n",
        "  for i in range(1, len(encoded)):\n",
        "    sequence = encoded[:i+1]\n",
        "    sequences.append(sequence)\n",
        "\n",
        "print('how many training samples: {}'.format(len(sequences)))\n",
        "print('training samples: {}'.format(sequences))"
      ],
      "metadata": {
        "colab": {
          "base_uri": "https://localhost:8080/"
        },
        "id": "e5fYURbk2Qmg",
        "outputId": "56bb955c-7504-46e2-9af0-fedd4920ab2c"
      },
      "execution_count": null,
      "outputs": [
        {
          "output_type": "stream",
          "name": "stdout",
          "text": [
            "how many training samples: 40\n",
            "training samples: [[2, 6], [2, 6, 3], [2, 6, 3, 7], [2, 6, 3, 7, 11], [4, 12], [4, 12, 13], [4, 12, 13, 8], [4, 12, 13, 8, 14], [6, 1], [6, 1, 5], [6, 1, 5, 15], [6, 1, 5, 15, 16], [4, 1], [4, 1, 5], [4, 1, 5, 8], [4, 1, 5, 8, 17], [3, 18], [3, 18, 2], [3, 18, 2, 1], [3, 18, 2, 1, 19], [4, 9], [4, 9, 20], [4, 9, 20, 21], [9, 22], [9, 22, 1], [9, 22, 1, 23], [9, 22, 1, 23, 10], [9, 22, 1, 23, 10, 24], [3, 25], [3, 25, 5], [3, 25, 5, 26], [3, 25, 5, 26, 1], [2, 27], [2, 27, 28], [2, 27, 28, 7], [2, 27, 28, 7, 29], [2, 30], [2, 30, 31], [2, 30, 31, 10], [2, 30, 31, 10, 32]]\n"
          ]
        }
      ]
    },
    {
      "cell_type": "code",
      "source": [
        "\"\"\" TODO: Pad all train data with max length \"\"\"\n",
        "\n",
        "# Pad all train data\n",
        "before_sequences = sequences\n",
        "max_len = max(len(s) for s in sequences)\n",
        "sequences = pad_sequences(sequences, maxlen=max_len, padding='pre')\n",
        "\n",
        "print('max length of sequences: {}'.format(max_len))\n",
        "print('before padding: {}'.format(before_sequences[0]))\n",
        "print('after padding: {}'.format(sequences[0]))"
      ],
      "metadata": {
        "colab": {
          "base_uri": "https://localhost:8080/"
        },
        "id": "Vx0pJATHIO47",
        "outputId": "699231a0-1768-4046-91c8-c20135f4b612"
      },
      "execution_count": null,
      "outputs": [
        {
          "output_type": "stream",
          "name": "stdout",
          "text": [
            "max length of sequences: 6\n",
            "before padding: [2, 6]\n",
            "after padding: [0 0 0 0 2 6]\n"
          ]
        }
      ]
    },
    {
      "cell_type": "code",
      "source": [
        "# Make labels for train data\n",
        "sequences = np.array(sequences)\n",
        "X = sequences[:, :-1]\n",
        "y = sequences[:, -1]\n",
        "\n",
        "print('input example: {}'.format(X[0]))\n",
        "print('output example: {}'.format(y[0]))"
      ],
      "metadata": {
        "id": "efr7r7BfItXF",
        "colab": {
          "base_uri": "https://localhost:8080/"
        },
        "outputId": "0e829895-8571-4d13-973d-b1257b7689f0"
      },
      "execution_count": null,
      "outputs": [
        {
          "output_type": "stream",
          "name": "stdout",
          "text": [
            "input example: [0 0 0 0 2]\n",
            "output example: 6\n"
          ]
        }
      ]
    },
    {
      "cell_type": "code",
      "source": [
        "\"\"\" TODO: Convert labels to one-hot vectors using to_categorical() \"\"\"\n",
        "\n",
        "# Convert labels to one-hot vectors\n",
        "before_y = y\n",
        "y = to_categorical(y, num_classes=vocab_size)\n",
        "\n",
        "print('before one-hot encoding: {}'.format(before_y[0]))\n",
        "print('after one-hot encoding: {}'.format(y[0]))"
      ],
      "metadata": {
        "colab": {
          "base_uri": "https://localhost:8080/"
        },
        "id": "BcZj1FmKLA33",
        "outputId": "9f22ae6a-df65-416f-835c-31a1378bdb04"
      },
      "execution_count": null,
      "outputs": [
        {
          "output_type": "stream",
          "name": "stdout",
          "text": [
            "before one-hot encoding: 6\n",
            "after one-hot encoding: [0. 0. 0. 0. 0. 0. 1. 0. 0. 0. 0. 0. 0. 0. 0. 0. 0. 0. 0. 0. 0. 0. 0. 0.\n",
            " 0. 0. 0. 0. 0. 0. 0. 0. 0.]\n"
          ]
        }
      ]
    },
    {
      "cell_type": "code",
      "source": [
        "\"\"\" TODO: Change hyper-paremeters by your own \"\"\"\n",
        "\n",
        "# Set hyper-parameters\n",
        "embedding_dim = 10\n",
        "hidden_units  = 32\n",
        "\n",
        "# Make model using RNN layer\n",
        "model = Sequential()\n",
        "model.add(Embedding(vocab_size, embedding_dim))\n",
        "model.add(SimpleRNN(hidden_units))\n",
        "model.add(Dense(vocab_size, activation='softmax'))\n",
        "\n",
        "# Train model\n",
        "model.compile(loss='categorical_crossentropy', optimizer='adam', metrics=['accuracy'])\n",
        "model.fit(X, y, epochs=200, verbose=1)"
      ],
      "metadata": {
        "colab": {
          "base_uri": "https://localhost:8080/"
        },
        "id": "91AkQRVML37X",
        "outputId": "e8cacebf-2d4c-4d95-d593-012245fb70ac"
      },
      "execution_count": null,
      "outputs": [
        {
          "output_type": "stream",
          "name": "stdout",
          "text": [
            "Epoch 1/200\n",
            "2/2 [==============================] - 2s 24ms/step - loss: 3.4958 - accuracy: 0.0500\n",
            "Epoch 2/200\n",
            "2/2 [==============================] - 0s 13ms/step - loss: 3.4841 - accuracy: 0.0500\n",
            "Epoch 3/200\n",
            "2/2 [==============================] - 0s 16ms/step - loss: 3.4750 - accuracy: 0.0500\n",
            "Epoch 4/200\n",
            "2/2 [==============================] - 0s 12ms/step - loss: 3.4651 - accuracy: 0.1000\n",
            "Epoch 5/200\n",
            "2/2 [==============================] - 0s 10ms/step - loss: 3.4564 - accuracy: 0.1000\n",
            "Epoch 6/200\n",
            "2/2 [==============================] - 0s 12ms/step - loss: 3.4484 - accuracy: 0.1000\n",
            "Epoch 7/200\n",
            "2/2 [==============================] - 0s 10ms/step - loss: 3.4377 - accuracy: 0.1750\n",
            "Epoch 8/200\n",
            "2/2 [==============================] - 0s 9ms/step - loss: 3.4291 - accuracy: 0.1750\n",
            "Epoch 9/200\n",
            "2/2 [==============================] - 0s 14ms/step - loss: 3.4203 - accuracy: 0.1500\n",
            "Epoch 10/200\n",
            "2/2 [==============================] - 0s 10ms/step - loss: 3.4097 - accuracy: 0.1500\n",
            "Epoch 11/200\n",
            "2/2 [==============================] - 0s 9ms/step - loss: 3.3990 - accuracy: 0.1500\n",
            "Epoch 12/200\n",
            "2/2 [==============================] - 0s 9ms/step - loss: 3.3878 - accuracy: 0.1750\n",
            "Epoch 13/200\n",
            "2/2 [==============================] - 0s 12ms/step - loss: 3.3769 - accuracy: 0.1750\n",
            "Epoch 14/200\n",
            "2/2 [==============================] - 0s 10ms/step - loss: 3.3641 - accuracy: 0.1750\n",
            "Epoch 15/200\n",
            "2/2 [==============================] - 0s 9ms/step - loss: 3.3505 - accuracy: 0.2000\n",
            "Epoch 16/200\n",
            "2/2 [==============================] - 0s 11ms/step - loss: 3.3384 - accuracy: 0.2000\n",
            "Epoch 17/200\n",
            "2/2 [==============================] - 0s 11ms/step - loss: 3.3224 - accuracy: 0.2000\n",
            "Epoch 18/200\n",
            "2/2 [==============================] - 0s 11ms/step - loss: 3.3094 - accuracy: 0.1750\n",
            "Epoch 19/200\n",
            "2/2 [==============================] - 0s 11ms/step - loss: 3.2947 - accuracy: 0.1750\n",
            "Epoch 20/200\n",
            "2/2 [==============================] - 0s 9ms/step - loss: 3.2809 - accuracy: 0.1750\n",
            "Epoch 21/200\n",
            "2/2 [==============================] - 0s 9ms/step - loss: 3.2655 - accuracy: 0.1750\n",
            "Epoch 22/200\n",
            "2/2 [==============================] - 0s 12ms/step - loss: 3.2513 - accuracy: 0.1250\n",
            "Epoch 23/200\n",
            "2/2 [==============================] - 0s 16ms/step - loss: 3.2359 - accuracy: 0.1250\n",
            "Epoch 24/200\n",
            "2/2 [==============================] - 0s 8ms/step - loss: 3.2194 - accuracy: 0.1250\n",
            "Epoch 25/200\n",
            "2/2 [==============================] - 0s 12ms/step - loss: 3.2064 - accuracy: 0.1250\n",
            "Epoch 26/200\n",
            "2/2 [==============================] - 0s 8ms/step - loss: 3.1912 - accuracy: 0.1250\n",
            "Epoch 27/200\n",
            "2/2 [==============================] - 0s 13ms/step - loss: 3.1775 - accuracy: 0.1250\n",
            "Epoch 28/200\n",
            "2/2 [==============================] - 0s 10ms/step - loss: 3.1674 - accuracy: 0.1250\n",
            "Epoch 29/200\n",
            "2/2 [==============================] - 0s 10ms/step - loss: 3.1569 - accuracy: 0.1250\n",
            "Epoch 30/200\n",
            "2/2 [==============================] - 0s 9ms/step - loss: 3.1432 - accuracy: 0.1250\n",
            "Epoch 31/200\n",
            "2/2 [==============================] - 0s 9ms/step - loss: 3.1309 - accuracy: 0.1250\n",
            "Epoch 32/200\n",
            "2/2 [==============================] - 0s 9ms/step - loss: 3.1171 - accuracy: 0.1250\n",
            "Epoch 33/200\n",
            "2/2 [==============================] - 0s 9ms/step - loss: 3.0998 - accuracy: 0.1250\n",
            "Epoch 34/200\n",
            "2/2 [==============================] - 0s 9ms/step - loss: 3.0846 - accuracy: 0.1250\n",
            "Epoch 35/200\n",
            "2/2 [==============================] - 0s 16ms/step - loss: 3.0671 - accuracy: 0.1250\n",
            "Epoch 36/200\n",
            "2/2 [==============================] - 0s 10ms/step - loss: 3.0507 - accuracy: 0.1250\n",
            "Epoch 37/200\n",
            "2/2 [==============================] - 0s 10ms/step - loss: 3.0312 - accuracy: 0.1250\n",
            "Epoch 38/200\n",
            "2/2 [==============================] - 0s 13ms/step - loss: 3.0132 - accuracy: 0.1250\n",
            "Epoch 39/200\n",
            "2/2 [==============================] - 0s 10ms/step - loss: 2.9948 - accuracy: 0.1250\n",
            "Epoch 40/200\n",
            "2/2 [==============================] - 0s 9ms/step - loss: 2.9738 - accuracy: 0.1500\n",
            "Epoch 41/200\n",
            "2/2 [==============================] - 0s 10ms/step - loss: 2.9541 - accuracy: 0.1500\n",
            "Epoch 42/200\n",
            "2/2 [==============================] - 0s 9ms/step - loss: 2.9359 - accuracy: 0.1500\n",
            "Epoch 43/200\n",
            "2/2 [==============================] - 0s 10ms/step - loss: 2.9156 - accuracy: 0.1500\n",
            "Epoch 44/200\n",
            "2/2 [==============================] - 0s 15ms/step - loss: 2.8947 - accuracy: 0.1500\n",
            "Epoch 45/200\n",
            "2/2 [==============================] - 0s 12ms/step - loss: 2.8743 - accuracy: 0.2000\n",
            "Epoch 46/200\n",
            "2/2 [==============================] - 0s 10ms/step - loss: 2.8526 - accuracy: 0.2500\n",
            "Epoch 47/200\n",
            "2/2 [==============================] - 0s 13ms/step - loss: 2.8312 - accuracy: 0.2750\n",
            "Epoch 48/200\n",
            "2/2 [==============================] - 0s 10ms/step - loss: 2.8113 - accuracy: 0.3000\n",
            "Epoch 49/200\n",
            "2/2 [==============================] - 0s 12ms/step - loss: 2.7907 - accuracy: 0.3250\n",
            "Epoch 50/200\n",
            "2/2 [==============================] - 0s 11ms/step - loss: 2.7677 - accuracy: 0.3500\n",
            "Epoch 51/200\n",
            "2/2 [==============================] - 0s 10ms/step - loss: 2.7454 - accuracy: 0.3750\n",
            "Epoch 52/200\n",
            "2/2 [==============================] - 0s 11ms/step - loss: 2.7228 - accuracy: 0.3750\n",
            "Epoch 53/200\n",
            "2/2 [==============================] - 0s 9ms/step - loss: 2.7000 - accuracy: 0.3750\n",
            "Epoch 54/200\n",
            "2/2 [==============================] - 0s 9ms/step - loss: 2.6779 - accuracy: 0.3750\n",
            "Epoch 55/200\n",
            "2/2 [==============================] - 0s 9ms/step - loss: 2.6551 - accuracy: 0.3750\n",
            "Epoch 56/200\n",
            "2/2 [==============================] - 0s 8ms/step - loss: 2.6334 - accuracy: 0.3750\n",
            "Epoch 57/200\n",
            "2/2 [==============================] - 0s 9ms/step - loss: 2.6094 - accuracy: 0.3750\n",
            "Epoch 58/200\n",
            "2/2 [==============================] - 0s 10ms/step - loss: 2.5861 - accuracy: 0.3750\n",
            "Epoch 59/200\n",
            "2/2 [==============================] - 0s 9ms/step - loss: 2.5626 - accuracy: 0.4000\n",
            "Epoch 60/200\n",
            "2/2 [==============================] - 0s 9ms/step - loss: 2.5389 - accuracy: 0.4000\n",
            "Epoch 61/200\n",
            "2/2 [==============================] - 0s 8ms/step - loss: 2.5149 - accuracy: 0.4250\n",
            "Epoch 62/200\n",
            "2/2 [==============================] - 0s 10ms/step - loss: 2.4916 - accuracy: 0.4250\n",
            "Epoch 63/200\n",
            "2/2 [==============================] - 0s 8ms/step - loss: 2.4692 - accuracy: 0.4500\n",
            "Epoch 64/200\n",
            "2/2 [==============================] - 0s 9ms/step - loss: 2.4468 - accuracy: 0.4750\n",
            "Epoch 65/200\n",
            "2/2 [==============================] - 0s 11ms/step - loss: 2.4235 - accuracy: 0.4750\n",
            "Epoch 66/200\n",
            "2/2 [==============================] - 0s 9ms/step - loss: 2.3993 - accuracy: 0.5000\n",
            "Epoch 67/200\n",
            "2/2 [==============================] - 0s 11ms/step - loss: 2.3773 - accuracy: 0.4500\n",
            "Epoch 68/200\n",
            "2/2 [==============================] - 0s 11ms/step - loss: 2.3548 - accuracy: 0.4250\n",
            "Epoch 69/200\n",
            "2/2 [==============================] - 0s 11ms/step - loss: 2.3318 - accuracy: 0.4500\n",
            "Epoch 70/200\n",
            "2/2 [==============================] - 0s 8ms/step - loss: 2.3107 - accuracy: 0.4750\n",
            "Epoch 71/200\n",
            "2/2 [==============================] - 0s 10ms/step - loss: 2.2878 - accuracy: 0.5250\n",
            "Epoch 72/200\n",
            "2/2 [==============================] - 0s 10ms/step - loss: 2.2654 - accuracy: 0.5500\n",
            "Epoch 73/200\n",
            "2/2 [==============================] - 0s 10ms/step - loss: 2.2435 - accuracy: 0.5500\n",
            "Epoch 74/200\n",
            "2/2 [==============================] - 0s 19ms/step - loss: 2.2217 - accuracy: 0.5500\n",
            "Epoch 75/200\n",
            "2/2 [==============================] - 0s 8ms/step - loss: 2.1983 - accuracy: 0.5750\n",
            "Epoch 76/200\n",
            "2/2 [==============================] - 0s 8ms/step - loss: 2.1773 - accuracy: 0.5750\n",
            "Epoch 77/200\n",
            "2/2 [==============================] - 0s 9ms/step - loss: 2.1568 - accuracy: 0.5750\n",
            "Epoch 78/200\n",
            "2/2 [==============================] - 0s 9ms/step - loss: 2.1349 - accuracy: 0.5750\n",
            "Epoch 79/200\n",
            "2/2 [==============================] - 0s 9ms/step - loss: 2.1141 - accuracy: 0.5750\n",
            "Epoch 80/200\n",
            "2/2 [==============================] - 0s 10ms/step - loss: 2.0931 - accuracy: 0.5500\n",
            "Epoch 81/200\n",
            "2/2 [==============================] - 0s 10ms/step - loss: 2.0706 - accuracy: 0.5500\n",
            "Epoch 82/200\n",
            "2/2 [==============================] - 0s 9ms/step - loss: 2.0488 - accuracy: 0.5500\n",
            "Epoch 83/200\n",
            "2/2 [==============================] - 0s 12ms/step - loss: 2.0289 - accuracy: 0.5500\n",
            "Epoch 84/200\n",
            "2/2 [==============================] - 0s 11ms/step - loss: 2.0089 - accuracy: 0.5500\n",
            "Epoch 85/200\n",
            "2/2 [==============================] - 0s 9ms/step - loss: 1.9924 - accuracy: 0.5500\n",
            "Epoch 86/200\n",
            "2/2 [==============================] - 0s 11ms/step - loss: 1.9718 - accuracy: 0.5500\n",
            "Epoch 87/200\n",
            "2/2 [==============================] - 0s 11ms/step - loss: 1.9520 - accuracy: 0.5500\n",
            "Epoch 88/200\n",
            "2/2 [==============================] - 0s 11ms/step - loss: 1.9333 - accuracy: 0.5500\n",
            "Epoch 89/200\n",
            "2/2 [==============================] - 0s 9ms/step - loss: 1.9120 - accuracy: 0.5500\n",
            "Epoch 90/200\n",
            "2/2 [==============================] - 0s 11ms/step - loss: 1.8920 - accuracy: 0.5750\n",
            "Epoch 91/200\n",
            "2/2 [==============================] - 0s 11ms/step - loss: 1.8725 - accuracy: 0.5750\n",
            "Epoch 92/200\n",
            "2/2 [==============================] - 0s 10ms/step - loss: 1.8535 - accuracy: 0.5750\n",
            "Epoch 93/200\n",
            "2/2 [==============================] - 0s 12ms/step - loss: 1.8376 - accuracy: 0.5750\n",
            "Epoch 94/200\n",
            "2/2 [==============================] - 0s 11ms/step - loss: 1.8180 - accuracy: 0.6000\n",
            "Epoch 95/200\n",
            "2/2 [==============================] - 0s 16ms/step - loss: 1.7997 - accuracy: 0.6000\n",
            "Epoch 96/200\n",
            "2/2 [==============================] - 0s 14ms/step - loss: 1.7826 - accuracy: 0.6000\n",
            "Epoch 97/200\n",
            "2/2 [==============================] - 0s 12ms/step - loss: 1.7668 - accuracy: 0.6000\n",
            "Epoch 98/200\n",
            "2/2 [==============================] - 0s 11ms/step - loss: 1.7474 - accuracy: 0.6250\n",
            "Epoch 99/200\n",
            "2/2 [==============================] - 0s 14ms/step - loss: 1.7305 - accuracy: 0.6500\n",
            "Epoch 100/200\n",
            "2/2 [==============================] - 0s 11ms/step - loss: 1.7111 - accuracy: 0.6500\n",
            "Epoch 101/200\n",
            "2/2 [==============================] - 0s 13ms/step - loss: 1.6934 - accuracy: 0.6250\n",
            "Epoch 102/200\n",
            "2/2 [==============================] - 0s 19ms/step - loss: 1.6806 - accuracy: 0.6250\n",
            "Epoch 103/200\n",
            "2/2 [==============================] - 0s 17ms/step - loss: 1.6668 - accuracy: 0.6000\n",
            "Epoch 104/200\n",
            "2/2 [==============================] - 0s 28ms/step - loss: 1.6525 - accuracy: 0.6000\n",
            "Epoch 105/200\n",
            "2/2 [==============================] - 0s 30ms/step - loss: 1.6397 - accuracy: 0.5750\n",
            "Epoch 106/200\n",
            "2/2 [==============================] - 0s 14ms/step - loss: 1.6241 - accuracy: 0.5750\n",
            "Epoch 107/200\n",
            "2/2 [==============================] - 0s 13ms/step - loss: 1.6058 - accuracy: 0.6000\n",
            "Epoch 108/200\n",
            "2/2 [==============================] - 0s 18ms/step - loss: 1.5893 - accuracy: 0.6250\n",
            "Epoch 109/200\n",
            "2/2 [==============================] - 0s 11ms/step - loss: 1.5726 - accuracy: 0.6500\n",
            "Epoch 110/200\n",
            "2/2 [==============================] - 0s 15ms/step - loss: 1.5562 - accuracy: 0.6500\n",
            "Epoch 111/200\n",
            "2/2 [==============================] - 0s 20ms/step - loss: 1.5413 - accuracy: 0.6500\n",
            "Epoch 112/200\n",
            "2/2 [==============================] - 0s 23ms/step - loss: 1.5257 - accuracy: 0.6500\n",
            "Epoch 113/200\n",
            "2/2 [==============================] - 0s 25ms/step - loss: 1.5136 - accuracy: 0.6500\n",
            "Epoch 114/200\n",
            "2/2 [==============================] - 0s 14ms/step - loss: 1.5023 - accuracy: 0.6500\n",
            "Epoch 115/200\n",
            "2/2 [==============================] - 0s 19ms/step - loss: 1.4895 - accuracy: 0.6750\n",
            "Epoch 116/200\n",
            "2/2 [==============================] - 0s 14ms/step - loss: 1.4782 - accuracy: 0.6750\n",
            "Epoch 117/200\n",
            "2/2 [==============================] - 0s 13ms/step - loss: 1.4637 - accuracy: 0.6750\n",
            "Epoch 118/200\n",
            "2/2 [==============================] - 0s 14ms/step - loss: 1.4485 - accuracy: 0.6750\n",
            "Epoch 119/200\n",
            "2/2 [==============================] - 0s 17ms/step - loss: 1.4327 - accuracy: 0.6750\n",
            "Epoch 120/200\n",
            "2/2 [==============================] - 0s 14ms/step - loss: 1.4174 - accuracy: 0.6500\n",
            "Epoch 121/200\n",
            "2/2 [==============================] - 0s 13ms/step - loss: 1.4028 - accuracy: 0.6500\n",
            "Epoch 122/200\n",
            "2/2 [==============================] - 0s 29ms/step - loss: 1.3892 - accuracy: 0.6500\n",
            "Epoch 123/200\n",
            "2/2 [==============================] - 0s 19ms/step - loss: 1.3762 - accuracy: 0.6500\n",
            "Epoch 124/200\n",
            "2/2 [==============================] - 0s 19ms/step - loss: 1.3639 - accuracy: 0.6500\n",
            "Epoch 125/200\n",
            "2/2 [==============================] - 0s 19ms/step - loss: 1.3507 - accuracy: 0.6500\n",
            "Epoch 126/200\n",
            "2/2 [==============================] - 0s 21ms/step - loss: 1.3384 - accuracy: 0.6500\n",
            "Epoch 127/200\n",
            "2/2 [==============================] - 0s 19ms/step - loss: 1.3276 - accuracy: 0.6500\n",
            "Epoch 128/200\n",
            "2/2 [==============================] - 0s 15ms/step - loss: 1.3162 - accuracy: 0.6750\n",
            "Epoch 129/200\n",
            "2/2 [==============================] - 0s 18ms/step - loss: 1.3038 - accuracy: 0.6750\n",
            "Epoch 130/200\n",
            "2/2 [==============================] - 0s 18ms/step - loss: 1.2918 - accuracy: 0.6750\n",
            "Epoch 131/200\n",
            "2/2 [==============================] - 0s 11ms/step - loss: 1.2814 - accuracy: 0.6750\n",
            "Epoch 132/200\n",
            "2/2 [==============================] - 0s 17ms/step - loss: 1.2687 - accuracy: 0.6750\n",
            "Epoch 133/200\n",
            "2/2 [==============================] - 0s 14ms/step - loss: 1.2564 - accuracy: 0.6750\n",
            "Epoch 134/200\n",
            "2/2 [==============================] - 0s 15ms/step - loss: 1.2453 - accuracy: 0.7000\n",
            "Epoch 135/200\n",
            "2/2 [==============================] - 0s 11ms/step - loss: 1.2343 - accuracy: 0.7000\n",
            "Epoch 136/200\n",
            "2/2 [==============================] - 0s 41ms/step - loss: 1.2239 - accuracy: 0.7000\n",
            "Epoch 137/200\n",
            "2/2 [==============================] - 0s 19ms/step - loss: 1.2134 - accuracy: 0.7250\n",
            "Epoch 138/200\n",
            "2/2 [==============================] - 0s 20ms/step - loss: 1.2034 - accuracy: 0.7500\n",
            "Epoch 139/200\n",
            "2/2 [==============================] - 0s 27ms/step - loss: 1.1932 - accuracy: 0.7750\n",
            "Epoch 140/200\n",
            "2/2 [==============================] - 0s 21ms/step - loss: 1.1836 - accuracy: 0.7750\n",
            "Epoch 141/200\n",
            "2/2 [==============================] - 0s 25ms/step - loss: 1.1734 - accuracy: 0.7750\n",
            "Epoch 142/200\n",
            "2/2 [==============================] - 0s 27ms/step - loss: 1.1633 - accuracy: 0.7750\n",
            "Epoch 143/200\n",
            "2/2 [==============================] - 0s 19ms/step - loss: 1.1515 - accuracy: 0.7750\n",
            "Epoch 144/200\n",
            "2/2 [==============================] - 0s 14ms/step - loss: 1.1403 - accuracy: 0.7750\n",
            "Epoch 145/200\n",
            "2/2 [==============================] - 0s 20ms/step - loss: 1.1315 - accuracy: 0.7500\n",
            "Epoch 146/200\n",
            "2/2 [==============================] - 0s 17ms/step - loss: 1.1222 - accuracy: 0.7500\n",
            "Epoch 147/200\n",
            "2/2 [==============================] - 0s 12ms/step - loss: 1.1116 - accuracy: 0.7500\n",
            "Epoch 148/200\n",
            "2/2 [==============================] - 0s 12ms/step - loss: 1.1033 - accuracy: 0.7500\n",
            "Epoch 149/200\n",
            "2/2 [==============================] - 0s 18ms/step - loss: 1.0925 - accuracy: 0.7750\n",
            "Epoch 150/200\n",
            "2/2 [==============================] - 0s 21ms/step - loss: 1.0834 - accuracy: 0.7750\n",
            "Epoch 151/200\n",
            "2/2 [==============================] - 0s 17ms/step - loss: 1.0761 - accuracy: 0.7500\n",
            "Epoch 152/200\n",
            "2/2 [==============================] - 0s 17ms/step - loss: 1.0679 - accuracy: 0.7750\n",
            "Epoch 153/200\n",
            "2/2 [==============================] - 0s 16ms/step - loss: 1.0598 - accuracy: 0.7750\n",
            "Epoch 154/200\n",
            "2/2 [==============================] - 0s 18ms/step - loss: 1.0507 - accuracy: 0.7500\n",
            "Epoch 155/200\n",
            "2/2 [==============================] - 0s 15ms/step - loss: 1.0417 - accuracy: 0.7500\n",
            "Epoch 156/200\n",
            "2/2 [==============================] - 0s 19ms/step - loss: 1.0323 - accuracy: 0.7500\n",
            "Epoch 157/200\n",
            "2/2 [==============================] - 0s 13ms/step - loss: 1.0231 - accuracy: 0.8000\n",
            "Epoch 158/200\n",
            "2/2 [==============================] - 0s 16ms/step - loss: 1.0144 - accuracy: 0.8000\n",
            "Epoch 159/200\n",
            "2/2 [==============================] - 0s 18ms/step - loss: 1.0060 - accuracy: 0.8000\n",
            "Epoch 160/200\n",
            "2/2 [==============================] - 0s 18ms/step - loss: 0.9984 - accuracy: 0.8000\n",
            "Epoch 161/200\n",
            "2/2 [==============================] - 0s 24ms/step - loss: 0.9906 - accuracy: 0.8250\n",
            "Epoch 162/200\n",
            "2/2 [==============================] - 0s 29ms/step - loss: 0.9830 - accuracy: 0.8250\n",
            "Epoch 163/200\n",
            "2/2 [==============================] - 0s 18ms/step - loss: 0.9759 - accuracy: 0.8250\n",
            "Epoch 164/200\n",
            "2/2 [==============================] - 0s 19ms/step - loss: 0.9675 - accuracy: 0.8250\n",
            "Epoch 165/200\n",
            "2/2 [==============================] - 0s 20ms/step - loss: 0.9593 - accuracy: 0.8250\n",
            "Epoch 166/200\n",
            "2/2 [==============================] - 0s 19ms/step - loss: 0.9515 - accuracy: 0.8250\n",
            "Epoch 167/200\n",
            "2/2 [==============================] - 0s 20ms/step - loss: 0.9442 - accuracy: 0.8250\n",
            "Epoch 168/200\n",
            "2/2 [==============================] - 0s 22ms/step - loss: 0.9377 - accuracy: 0.8250\n",
            "Epoch 169/200\n",
            "2/2 [==============================] - 0s 16ms/step - loss: 0.9303 - accuracy: 0.8250\n",
            "Epoch 170/200\n",
            "2/2 [==============================] - 0s 18ms/step - loss: 0.9231 - accuracy: 0.8250\n",
            "Epoch 171/200\n",
            "2/2 [==============================] - 0s 21ms/step - loss: 0.9156 - accuracy: 0.8250\n",
            "Epoch 172/200\n",
            "2/2 [==============================] - 0s 18ms/step - loss: 0.9084 - accuracy: 0.8250\n",
            "Epoch 173/200\n",
            "2/2 [==============================] - 0s 15ms/step - loss: 0.9013 - accuracy: 0.8250\n",
            "Epoch 174/200\n",
            "2/2 [==============================] - 0s 17ms/step - loss: 0.8934 - accuracy: 0.8250\n",
            "Epoch 175/200\n",
            "2/2 [==============================] - 0s 15ms/step - loss: 0.8869 - accuracy: 0.8250\n",
            "Epoch 176/200\n",
            "2/2 [==============================] - 0s 25ms/step - loss: 0.8801 - accuracy: 0.8250\n",
            "Epoch 177/200\n",
            "2/2 [==============================] - 0s 19ms/step - loss: 0.8742 - accuracy: 0.8250\n",
            "Epoch 178/200\n",
            "2/2 [==============================] - 0s 18ms/step - loss: 0.8678 - accuracy: 0.8250\n",
            "Epoch 179/200\n",
            "2/2 [==============================] - 0s 17ms/step - loss: 0.8617 - accuracy: 0.8250\n",
            "Epoch 180/200\n",
            "2/2 [==============================] - 0s 29ms/step - loss: 0.8549 - accuracy: 0.8250\n",
            "Epoch 181/200\n",
            "2/2 [==============================] - 0s 23ms/step - loss: 0.8505 - accuracy: 0.8250\n",
            "Epoch 182/200\n",
            "2/2 [==============================] - 0s 17ms/step - loss: 0.8442 - accuracy: 0.8250\n",
            "Epoch 183/200\n",
            "2/2 [==============================] - 0s 23ms/step - loss: 0.8380 - accuracy: 0.8250\n",
            "Epoch 184/200\n",
            "2/2 [==============================] - 0s 18ms/step - loss: 0.8316 - accuracy: 0.8250\n",
            "Epoch 185/200\n",
            "2/2 [==============================] - 0s 33ms/step - loss: 0.8260 - accuracy: 0.8250\n",
            "Epoch 186/200\n",
            "2/2 [==============================] - 0s 38ms/step - loss: 0.8189 - accuracy: 0.8250\n",
            "Epoch 187/200\n",
            "2/2 [==============================] - 0s 24ms/step - loss: 0.8115 - accuracy: 0.8250\n",
            "Epoch 188/200\n",
            "2/2 [==============================] - 0s 20ms/step - loss: 0.8087 - accuracy: 0.8250\n",
            "Epoch 189/200\n",
            "2/2 [==============================] - 0s 16ms/step - loss: 0.8036 - accuracy: 0.8500\n",
            "Epoch 190/200\n",
            "2/2 [==============================] - 0s 18ms/step - loss: 0.7995 - accuracy: 0.8500\n",
            "Epoch 191/200\n",
            "2/2 [==============================] - 0s 12ms/step - loss: 0.7938 - accuracy: 0.8500\n",
            "Epoch 192/200\n",
            "2/2 [==============================] - 0s 17ms/step - loss: 0.7882 - accuracy: 0.8250\n",
            "Epoch 193/200\n",
            "2/2 [==============================] - 0s 13ms/step - loss: 0.7807 - accuracy: 0.8500\n",
            "Epoch 194/200\n",
            "2/2 [==============================] - 0s 16ms/step - loss: 0.7738 - accuracy: 0.8500\n",
            "Epoch 195/200\n",
            "2/2 [==============================] - 0s 15ms/step - loss: 0.7675 - accuracy: 0.8500\n",
            "Epoch 196/200\n",
            "2/2 [==============================] - 0s 12ms/step - loss: 0.7616 - accuracy: 0.8500\n",
            "Epoch 197/200\n",
            "2/2 [==============================] - 0s 29ms/step - loss: 0.7586 - accuracy: 0.8500\n",
            "Epoch 198/200\n",
            "2/2 [==============================] - 0s 23ms/step - loss: 0.7550 - accuracy: 0.8500\n",
            "Epoch 199/200\n",
            "2/2 [==============================] - 0s 10ms/step - loss: 0.7498 - accuracy: 0.8500\n",
            "Epoch 200/200\n",
            "2/2 [==============================] - 0s 18ms/step - loss: 0.7441 - accuracy: 0.8250\n"
          ]
        },
        {
          "output_type": "execute_result",
          "data": {
            "text/plain": [
              "<keras.callbacks.History at 0x7f1d90cacd30>"
            ]
          },
          "metadata": {},
          "execution_count": 15
        }
      ]
    },
    {
      "cell_type": "code",
      "source": [
        "# Generate sentence using my RNN model\n",
        "def generate_sent(model, tokenizer, max_len, current_word, n):\n",
        "  init_word = current_word\n",
        "  sent = ''\n",
        "\n",
        "  for _ in range(n):\n",
        "    # Tokenize and pad for current word \n",
        "    encoded = tokenizer.texts_to_sequences([current_word])[0]\n",
        "    encoded = pad_sequences([encoded], maxlen=max_len, padding='pre')\n",
        "\n",
        "    # Predict next word using current word\n",
        "    result = model.predict(encoded, verbose=0)\n",
        "    result = np.argmax(result, axis=1)\n",
        "\n",
        "    # Match predicted word with vocab's word\n",
        "    for word, idx in tokenizer.word_index.items():\n",
        "      if idx == result: break\n",
        "\n",
        "    # Add word into final results\n",
        "    current_word = current_word + ' ' + word\n",
        "    sent = sent + ' ' + word\n",
        "\n",
        "  sent = init_word + sent\n",
        "  return sent"
      ],
      "metadata": {
        "id": "q2ZVQECFM19t"
      },
      "execution_count": null,
      "outputs": []
    },
    {
      "cell_type": "code",
      "source": [
        "generate_sent(model, tokenizer, max_len, '나는', 4)"
      ],
      "metadata": {
        "colab": {
          "base_uri": "https://localhost:8080/",
          "height": 37
        },
        "id": "N5fDdg5LQi5k",
        "outputId": "3d76904a-dcfe-4ed3-bce9-edffdbc337d7"
      },
      "execution_count": null,
      "outputs": [
        {
          "output_type": "execute_result",
          "data": {
            "text/plain": [
              "'나는 먹으러 먹으러 먹으러 점심을'"
            ],
            "application/vnd.google.colaboratory.intrinsic+json": {
              "type": "string"
            }
          },
          "metadata": {},
          "execution_count": 17
        }
      ]
    },
    {
      "cell_type": "code",
      "source": [
        "generate_sent(model, tokenizer, max_len, '짜파게티', 3)"
      ],
      "metadata": {
        "colab": {
          "base_uri": "https://localhost:8080/",
          "height": 37
        },
        "id": "TSHgU4uNQ0BO",
        "outputId": "1292278c-4c36-4b0d-9d21-d859562178a3"
      },
      "execution_count": null,
      "outputs": [
        {
          "output_type": "execute_result",
          "data": {
            "text/plain": [
              "'짜파게티 먹으러 먹으러 점심을'"
            ],
            "application/vnd.google.colaboratory.intrinsic+json": {
              "type": "string"
            }
          },
          "metadata": {},
          "execution_count": 18
        }
      ]
    },
    {
      "cell_type": "code",
      "source": [
        "generate_sent(model, tokenizer, max_len, '지금', 5)"
      ],
      "metadata": {
        "colab": {
          "base_uri": "https://localhost:8080/",
          "height": 37
        },
        "id": "CoaqjnWaR5o6",
        "outputId": "e4f511bf-ce5d-4663-86ac-747c3ffcf2cc"
      },
      "execution_count": null,
      "outputs": [
        {
          "output_type": "execute_result",
          "data": {
            "text/plain": [
              "'지금 점심을 먹으러 가고 싶어요 점심을'"
            ],
            "application/vnd.google.colaboratory.intrinsic+json": {
              "type": "string"
            }
          },
          "metadata": {},
          "execution_count": 19
        }
      ]
    }
  ]
}