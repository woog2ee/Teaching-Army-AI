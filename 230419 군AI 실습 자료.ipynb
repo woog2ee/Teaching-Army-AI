{
  "nbformat": 4,
  "nbformat_minor": 0,
  "metadata": {
    "colab": {
      "provenance": []
    },
    "kernelspec": {
      "name": "python3",
      "display_name": "Python 3"
    },
    "language_info": {
      "name": "python"
    },
    "widgets": {
      "application/vnd.jupyter.widget-state+json": {
        "97bc9e08bcc949cd9bfd461c0b23b94f": {
          "model_module": "@jupyter-widgets/controls",
          "model_name": "HBoxModel",
          "model_module_version": "1.5.0",
          "state": {
            "_dom_classes": [],
            "_model_module": "@jupyter-widgets/controls",
            "_model_module_version": "1.5.0",
            "_model_name": "HBoxModel",
            "_view_count": null,
            "_view_module": "@jupyter-widgets/controls",
            "_view_module_version": "1.5.0",
            "_view_name": "HBoxView",
            "box_style": "",
            "children": [
              "IPY_MODEL_a54f37263046426791bb82f0cae0fcdf",
              "IPY_MODEL_c7ddf37fc61c48fdbca31f1d6d9664c6",
              "IPY_MODEL_e1e080637350434792dcc87f7bd288f7"
            ],
            "layout": "IPY_MODEL_c1d6b98319c744758255830c3470f338"
          }
        },
        "a54f37263046426791bb82f0cae0fcdf": {
          "model_module": "@jupyter-widgets/controls",
          "model_name": "HTMLModel",
          "model_module_version": "1.5.0",
          "state": {
            "_dom_classes": [],
            "_model_module": "@jupyter-widgets/controls",
            "_model_module_version": "1.5.0",
            "_model_name": "HTMLModel",
            "_view_count": null,
            "_view_module": "@jupyter-widgets/controls",
            "_view_module_version": "1.5.0",
            "_view_name": "HTMLView",
            "description": "",
            "description_tooltip": null,
            "layout": "IPY_MODEL_cb5e15dc37214a47adc7f3b82f2f985c",
            "placeholder": "​",
            "style": "IPY_MODEL_dc16cec2090246adb1b47dbf352b83bc",
            "value": "Dl Completed...: 100%"
          }
        },
        "c7ddf37fc61c48fdbca31f1d6d9664c6": {
          "model_module": "@jupyter-widgets/controls",
          "model_name": "FloatProgressModel",
          "model_module_version": "1.5.0",
          "state": {
            "_dom_classes": [],
            "_model_module": "@jupyter-widgets/controls",
            "_model_module_version": "1.5.0",
            "_model_name": "FloatProgressModel",
            "_view_count": null,
            "_view_module": "@jupyter-widgets/controls",
            "_view_module_version": "1.5.0",
            "_view_name": "ProgressView",
            "bar_style": "success",
            "description": "",
            "description_tooltip": null,
            "layout": "IPY_MODEL_f86438489db94ec591afb8c79451a44e",
            "max": 5,
            "min": 0,
            "orientation": "horizontal",
            "style": "IPY_MODEL_e03eed14d8914ec184298ac170b8f5d8",
            "value": 5
          }
        },
        "e1e080637350434792dcc87f7bd288f7": {
          "model_module": "@jupyter-widgets/controls",
          "model_name": "HTMLModel",
          "model_module_version": "1.5.0",
          "state": {
            "_dom_classes": [],
            "_model_module": "@jupyter-widgets/controls",
            "_model_module_version": "1.5.0",
            "_model_name": "HTMLModel",
            "_view_count": null,
            "_view_module": "@jupyter-widgets/controls",
            "_view_module_version": "1.5.0",
            "_view_name": "HTMLView",
            "description": "",
            "description_tooltip": null,
            "layout": "IPY_MODEL_3e601bba97204ebd90648871fb2cc3ea",
            "placeholder": "​",
            "style": "IPY_MODEL_8d12ada16da14947a38c3147a33412eb",
            "value": " 5/5 [00:01&lt;00:00,  2.72 file/s]"
          }
        },
        "c1d6b98319c744758255830c3470f338": {
          "model_module": "@jupyter-widgets/base",
          "model_name": "LayoutModel",
          "model_module_version": "1.2.0",
          "state": {
            "_model_module": "@jupyter-widgets/base",
            "_model_module_version": "1.2.0",
            "_model_name": "LayoutModel",
            "_view_count": null,
            "_view_module": "@jupyter-widgets/base",
            "_view_module_version": "1.2.0",
            "_view_name": "LayoutView",
            "align_content": null,
            "align_items": null,
            "align_self": null,
            "border": null,
            "bottom": null,
            "display": null,
            "flex": null,
            "flex_flow": null,
            "grid_area": null,
            "grid_auto_columns": null,
            "grid_auto_flow": null,
            "grid_auto_rows": null,
            "grid_column": null,
            "grid_gap": null,
            "grid_row": null,
            "grid_template_areas": null,
            "grid_template_columns": null,
            "grid_template_rows": null,
            "height": null,
            "justify_content": null,
            "justify_items": null,
            "left": null,
            "margin": null,
            "max_height": null,
            "max_width": null,
            "min_height": null,
            "min_width": null,
            "object_fit": null,
            "object_position": null,
            "order": null,
            "overflow": null,
            "overflow_x": null,
            "overflow_y": null,
            "padding": null,
            "right": null,
            "top": null,
            "visibility": null,
            "width": null
          }
        },
        "cb5e15dc37214a47adc7f3b82f2f985c": {
          "model_module": "@jupyter-widgets/base",
          "model_name": "LayoutModel",
          "model_module_version": "1.2.0",
          "state": {
            "_model_module": "@jupyter-widgets/base",
            "_model_module_version": "1.2.0",
            "_model_name": "LayoutModel",
            "_view_count": null,
            "_view_module": "@jupyter-widgets/base",
            "_view_module_version": "1.2.0",
            "_view_name": "LayoutView",
            "align_content": null,
            "align_items": null,
            "align_self": null,
            "border": null,
            "bottom": null,
            "display": null,
            "flex": null,
            "flex_flow": null,
            "grid_area": null,
            "grid_auto_columns": null,
            "grid_auto_flow": null,
            "grid_auto_rows": null,
            "grid_column": null,
            "grid_gap": null,
            "grid_row": null,
            "grid_template_areas": null,
            "grid_template_columns": null,
            "grid_template_rows": null,
            "height": null,
            "justify_content": null,
            "justify_items": null,
            "left": null,
            "margin": null,
            "max_height": null,
            "max_width": null,
            "min_height": null,
            "min_width": null,
            "object_fit": null,
            "object_position": null,
            "order": null,
            "overflow": null,
            "overflow_x": null,
            "overflow_y": null,
            "padding": null,
            "right": null,
            "top": null,
            "visibility": null,
            "width": null
          }
        },
        "dc16cec2090246adb1b47dbf352b83bc": {
          "model_module": "@jupyter-widgets/controls",
          "model_name": "DescriptionStyleModel",
          "model_module_version": "1.5.0",
          "state": {
            "_model_module": "@jupyter-widgets/controls",
            "_model_module_version": "1.5.0",
            "_model_name": "DescriptionStyleModel",
            "_view_count": null,
            "_view_module": "@jupyter-widgets/base",
            "_view_module_version": "1.2.0",
            "_view_name": "StyleView",
            "description_width": ""
          }
        },
        "f86438489db94ec591afb8c79451a44e": {
          "model_module": "@jupyter-widgets/base",
          "model_name": "LayoutModel",
          "model_module_version": "1.2.0",
          "state": {
            "_model_module": "@jupyter-widgets/base",
            "_model_module_version": "1.2.0",
            "_model_name": "LayoutModel",
            "_view_count": null,
            "_view_module": "@jupyter-widgets/base",
            "_view_module_version": "1.2.0",
            "_view_name": "LayoutView",
            "align_content": null,
            "align_items": null,
            "align_self": null,
            "border": null,
            "bottom": null,
            "display": null,
            "flex": null,
            "flex_flow": null,
            "grid_area": null,
            "grid_auto_columns": null,
            "grid_auto_flow": null,
            "grid_auto_rows": null,
            "grid_column": null,
            "grid_gap": null,
            "grid_row": null,
            "grid_template_areas": null,
            "grid_template_columns": null,
            "grid_template_rows": null,
            "height": null,
            "justify_content": null,
            "justify_items": null,
            "left": null,
            "margin": null,
            "max_height": null,
            "max_width": null,
            "min_height": null,
            "min_width": null,
            "object_fit": null,
            "object_position": null,
            "order": null,
            "overflow": null,
            "overflow_x": null,
            "overflow_y": null,
            "padding": null,
            "right": null,
            "top": null,
            "visibility": null,
            "width": null
          }
        },
        "e03eed14d8914ec184298ac170b8f5d8": {
          "model_module": "@jupyter-widgets/controls",
          "model_name": "ProgressStyleModel",
          "model_module_version": "1.5.0",
          "state": {
            "_model_module": "@jupyter-widgets/controls",
            "_model_module_version": "1.5.0",
            "_model_name": "ProgressStyleModel",
            "_view_count": null,
            "_view_module": "@jupyter-widgets/base",
            "_view_module_version": "1.2.0",
            "_view_name": "StyleView",
            "bar_color": null,
            "description_width": ""
          }
        },
        "3e601bba97204ebd90648871fb2cc3ea": {
          "model_module": "@jupyter-widgets/base",
          "model_name": "LayoutModel",
          "model_module_version": "1.2.0",
          "state": {
            "_model_module": "@jupyter-widgets/base",
            "_model_module_version": "1.2.0",
            "_model_name": "LayoutModel",
            "_view_count": null,
            "_view_module": "@jupyter-widgets/base",
            "_view_module_version": "1.2.0",
            "_view_name": "LayoutView",
            "align_content": null,
            "align_items": null,
            "align_self": null,
            "border": null,
            "bottom": null,
            "display": null,
            "flex": null,
            "flex_flow": null,
            "grid_area": null,
            "grid_auto_columns": null,
            "grid_auto_flow": null,
            "grid_auto_rows": null,
            "grid_column": null,
            "grid_gap": null,
            "grid_row": null,
            "grid_template_areas": null,
            "grid_template_columns": null,
            "grid_template_rows": null,
            "height": null,
            "justify_content": null,
            "justify_items": null,
            "left": null,
            "margin": null,
            "max_height": null,
            "max_width": null,
            "min_height": null,
            "min_width": null,
            "object_fit": null,
            "object_position": null,
            "order": null,
            "overflow": null,
            "overflow_x": null,
            "overflow_y": null,
            "padding": null,
            "right": null,
            "top": null,
            "visibility": null,
            "width": null
          }
        },
        "8d12ada16da14947a38c3147a33412eb": {
          "model_module": "@jupyter-widgets/controls",
          "model_name": "DescriptionStyleModel",
          "model_module_version": "1.5.0",
          "state": {
            "_model_module": "@jupyter-widgets/controls",
            "_model_module_version": "1.5.0",
            "_model_name": "DescriptionStyleModel",
            "_view_count": null,
            "_view_module": "@jupyter-widgets/base",
            "_view_module_version": "1.2.0",
            "_view_name": "StyleView",
            "description_width": ""
          }
        }
      }
    }
  },
  "cells": [
    {
      "cell_type": "markdown",
      "source": [
        "230419 수요일 군AI 실습 자료입니다.   \n",
        "본 내용은 IIPL (Intelligent Information Processing Lab) 소속 석사과정 유승욱 조교가 작성하였습니다.   \n",
        "참고 자료: MIT Introduction to Deep Learning 6.S191: Lecture 1\n",
        "\n",
        "> Lecture 1   \n",
        "- Tensors in TensorFlow\n",
        "- Computations on Tensors\n",
        "- Custom Dense Layer\n",
        "- TensorFlow Dense Layer\n",
        "- Loss\n",
        "- Gradient Descent\n",
        "- Regularization\n",
        "- Advanced Example: MNIST\n"
      ],
      "metadata": {
        "id": "-v6BSwSg-yyu"
      }
    },
    {
      "cell_type": "markdown",
      "source": [
        "### Libraries"
      ],
      "metadata": {
        "id": "9RoPayxlAknF"
      }
    },
    {
      "cell_type": "code",
      "source": [
        "import tensorflow as tf\n",
        "import tensorflow_datasets as tfds"
      ],
      "metadata": {
        "id": "RFF-LlhOAfg2"
      },
      "execution_count": null,
      "outputs": []
    },
    {
      "cell_type": "markdown",
      "source": [
        "### Tensors in TensorFlow\n",
        "The **shape** of a Tensor defines its number of dimensions and the size of each dimension.   \n",
        "The **rank** of a Tensor provides the number of dimensions (n-dimensions) -- you can also think of this as the Tensor's order or degree."
      ],
      "metadata": {
        "id": "sSGBYhUBVsd7"
      }
    },
    {
      "cell_type": "code",
      "source": [
        "# 0-d Tensors like scalar\n",
        "sport  = tf.constant('Tennis', tf.string)\n",
        "number = tf.constant(3.141592, tf.float64)\n",
        "\n",
        "print(\"`sport` is a {}-d tensor\".format(tf.rank(sport).numpy()))\n",
        "print(\"`number` is a {}-d tensor\".format(tf.rank(number).numpy()))"
      ],
      "metadata": {
        "colab": {
          "base_uri": "https://localhost:8080/"
        },
        "id": "QuchtTk2Vt_I",
        "outputId": "03a94abd-8f4a-41e3-8a1a-98a142c12f3c"
      },
      "execution_count": null,
      "outputs": [
        {
          "output_type": "stream",
          "name": "stdout",
          "text": [
            "`sport` is a 0-d tensor\n",
            "`number` is a 0-d tensor\n"
          ]
        }
      ]
    },
    {
      "cell_type": "code",
      "source": [
        "# 1-d Tensors like lists and vectors\n",
        "sports  = tf.constant(['Tennis', 'Basketball'], tf.string)\n",
        "numbers = tf.constant([3.141592, 1.414213, 2.71821], tf.float64)\n",
        "\n",
        "print(\"`sports` is a {}-d Tensor with shape: {}\".format(tf.rank(sports).numpy(), tf.shape(sports)))\n",
        "print(\"`numbers` is a {}-d Tensor with shape: {}\".format(tf.rank(numbers).numpy(), tf.shape(numbers)))"
      ],
      "metadata": {
        "colab": {
          "base_uri": "https://localhost:8080/"
        },
        "id": "lZ9uMWVDV77U",
        "outputId": "a87e921b-f550-4e5a-80e1-2cfd67dc4b36"
      },
      "execution_count": null,
      "outputs": [
        {
          "output_type": "stream",
          "name": "stdout",
          "text": [
            "`sports` is a 1-d Tensor with shape: [2]\n",
            "`numbers` is a 1-d Tensor with shape: [3]\n"
          ]
        }
      ]
    },
    {
      "cell_type": "code",
      "source": [
        "# 2-d Tensors like single sentence (word count * word dimension)\n",
        "# 3-d Tensors like batch sentences (batch_size * word count * word dimension)\n",
        "\n",
        "# 3-d Tensors like single image (height * shape * color channels) \n",
        "# 4-d Tensors like batch images (batch size * height * shape * color channels)"
      ],
      "metadata": {
        "id": "lEeeuE1TWtNb"
      },
      "execution_count": null,
      "outputs": []
    },
    {
      "cell_type": "code",
      "source": [
        "\"\"\" TODO: Make a tensors using tf.zeros & tf.ones \"\"\"\n",
        "\n",
        "# You can make Tensors easily using tf.zeros & tf.ones\n",
        "zeros = tf.zeros([1, 2])\n",
        "ones  = tf.ones([2, 1])\n",
        "\n",
        "print(zeros)\n",
        "print(ones)"
      ],
      "metadata": {
        "colab": {
          "base_uri": "https://localhost:8080/"
        },
        "id": "2kM0idfwrTsE",
        "outputId": "b3feb42f-427f-4f77-d8ba-97f92e45c8e9"
      },
      "execution_count": null,
      "outputs": [
        {
          "output_type": "stream",
          "name": "stdout",
          "text": [
            "tf.Tensor([[0. 0.]], shape=(1, 2), dtype=float32)\n",
            "tf.Tensor(\n",
            "[[1.]\n",
            " [1.]], shape=(2, 1), dtype=float32)\n"
          ]
        }
      ]
    },
    {
      "cell_type": "code",
      "source": [
        "\"\"\" TODO: Define a 2-d Tensor \"\"\"\n",
        "\n",
        "matrix = tf.constant([[1.0, 2.0], [3.0, 4.0]], tf.float64)\n",
        "\n",
        "print(matrix.shape)\n",
        "print(tf.rank(matrix))\n",
        "\n",
        "assert isinstance(matrix, tf.Tensor), \"matrix must be a tf Tensor object\"\n",
        "assert tf.rank(matrix).numpy() == 2, \"matrix must be of rank 2\""
      ],
      "metadata": {
        "id": "517mTVBsXe57",
        "colab": {
          "base_uri": "https://localhost:8080/"
        },
        "outputId": "792d695d-8752-4733-87d2-b7d1d3b6e74a"
      },
      "execution_count": null,
      "outputs": [
        {
          "output_type": "stream",
          "name": "stdout",
          "text": [
            "(2, 2)\n",
            "tf.Tensor(2, shape=(), dtype=int32)\n"
          ]
        }
      ]
    },
    {
      "cell_type": "code",
      "source": [
        "\"\"\" TODO: Define a 4-d Tensor\n",
        "    with size 10 * 256 * 256 * 3 using tf.zeros \"\"\"\n",
        "\n",
        "images = tf.zeros([10, 256, 256, 3])\n",
        "\n",
        "print(images.shape)\n",
        "print(tf.rank(images))\n",
        "\n",
        "assert isinstance(images, tf.Tensor), \"matrix must be a tf Tensor object\"\n",
        "assert tf.rank(images).numpy() == 4, \"matrix must be of rank 4\"\n",
        "assert tf.shape(images).numpy().tolist() == [10, 256, 256, 3], \"matrix is incorrect shape\""
      ],
      "metadata": {
        "id": "eM57fNszYMiE"
      },
      "execution_count": null,
      "outputs": []
    },
    {
      "cell_type": "code",
      "source": [
        "# Check matrix's row & column\n",
        "row_vector    = matrix[1]\n",
        "column_vector = matrix[:,1]\n",
        "scalar        = matrix[0, 1]\n",
        "\n",
        "print(\"`row_vector`: {}\".format(row_vector.numpy()))\n",
        "print(\"`column_vector`: {}\".format(column_vector.numpy()))\n",
        "print(\"`scalar`: {}\".format(scalar.numpy()))"
      ],
      "metadata": {
        "colab": {
          "base_uri": "https://localhost:8080/"
        },
        "id": "vimp3vMOkVIE",
        "outputId": "ae51e8dc-b436-449d-e4f8-88050177bf94"
      },
      "execution_count": null,
      "outputs": [
        {
          "output_type": "stream",
          "name": "stdout",
          "text": [
            "`row_vector`: [3. 4.]\n",
            "`column_vector`: [2. 4.]\n",
            "`scalar`: 2.0\n"
          ]
        }
      ]
    },
    {
      "cell_type": "markdown",
      "source": [
        "### Computations on Tensors"
      ],
      "metadata": {
        "id": "z2SZotbJaVwt"
      }
    },
    {
      "cell_type": "code",
      "source": [
        "# Compare add computations between scalars vs. Tensors\n",
        "a = tf.constant(15)\n",
        "b = tf.constant(61)\n",
        "\n",
        "c1 = 15 + 61\n",
        "print(c1)\n",
        "\n",
        "c2 = tf.add(a, b)\n",
        "print(c2)"
      ],
      "metadata": {
        "colab": {
          "base_uri": "https://localhost:8080/"
        },
        "id": "wJ5OiZX8aNKl",
        "outputId": "35546a74-40d2-40fc-845f-6664b6179f9f"
      },
      "execution_count": null,
      "outputs": [
        {
          "output_type": "stream",
          "name": "stdout",
          "text": [
            "76\n",
            "tf.Tensor(76, shape=(), dtype=int32)\n"
          ]
        }
      ]
    },
    {
      "cell_type": "code",
      "source": [
        "\"\"\" TODO: Try some other computations \"\"\"\n",
        "\n",
        "# Other computations\n",
        "d = tf.subtract(a, b)\n",
        "print(d)\n",
        "\n",
        "e = tf.multiply(a, b)\n",
        "print(e)\n",
        "\n",
        "f = tf.divide(a, b)\n",
        "print(f)"
      ],
      "metadata": {
        "colab": {
          "base_uri": "https://localhost:8080/"
        },
        "id": "fyKtREOSayo_",
        "outputId": "78fbfed9-5341-4e13-e154-64c816bd3372"
      },
      "execution_count": null,
      "outputs": [
        {
          "output_type": "stream",
          "name": "stdout",
          "text": [
            "tf.Tensor(-46, shape=(), dtype=int32)\n",
            "tf.Tensor(915, shape=(), dtype=int32)\n",
            "tf.Tensor(0.2459016393442623, shape=(), dtype=float64)\n"
          ]
        }
      ]
    },
    {
      "cell_type": "markdown",
      "source": [
        "### Custom Dense layer"
      ],
      "metadata": {
        "id": "f4jBWvhS_Ma_"
      }
    },
    {
      "cell_type": "code",
      "source": [
        "\"\"\" TODO: Make your custom dense layer \"\"\" \n",
        "\n",
        "# Custom dense layer\n",
        "class OurDenseLayer(tf.keras.layers.Layer):\n",
        "  def __init__(self, n_output_nodes):\n",
        "    super(OurDenseLayer, self).__init__()\n",
        "    self.n_output_nodes = n_output_nodes\n",
        "\n",
        "  def build(self, input_shape):\n",
        "    # Initialize weights and bias\n",
        "    d = int(input_shape[-1])\n",
        "    self.W = self.add_weight('weight', shape=[d, self.n_output_nodes])\n",
        "    self.b = self.add_weight('bias', shape=[1, self.n_output_nodes])\n",
        "\n",
        "  def call(self, x):\n",
        "    # Forward propagate the inputs\n",
        "    z = tf.matmul(x, self.W) + self.b\n",
        "\n",
        "    # Feed through a non-linear activation\n",
        "    y = tf.math.sigmoid(z)\n",
        "    return y"
      ],
      "metadata": {
        "id": "EWeaDuqAh-Bg"
      },
      "execution_count": null,
      "outputs": []
    },
    {
      "cell_type": "code",
      "source": [
        "custom_layer = OurDenseLayer(3)\n",
        "custom_layer.build((1, 2))\n",
        "\n",
        "x_input = tf.constant([[1, 2.]], shape=(1, 2))\n",
        "y       = custom_layer.call(x_input)"
      ],
      "metadata": {
        "id": "PPz6krv8hneK"
      },
      "execution_count": null,
      "outputs": []
    },
    {
      "cell_type": "code",
      "source": [
        "print('input      : {}'.format(x_input))\n",
        "print('input shape: {}\\n'.format(x_input.shape))\n",
        "\n",
        "print('output      : {}'.format(y.numpy()))\n",
        "print('output shape: {}'.format(y.numpy().shape))"
      ],
      "metadata": {
        "colab": {
          "base_uri": "https://localhost:8080/"
        },
        "id": "-xaulERBqGHN",
        "outputId": "23bacae2-46ed-4231-d60a-16579d1cee86"
      },
      "execution_count": null,
      "outputs": [
        {
          "output_type": "stream",
          "name": "stdout",
          "text": [
            "input      : [[1. 2.]]\n",
            "input shape: (1, 2)\n",
            "\n",
            "output      : [[0.69371545 0.6079396  0.12837772]]\n",
            "output shape: (1, 3)\n"
          ]
        }
      ]
    },
    {
      "cell_type": "markdown",
      "source": [
        "### TensorFlow Dense Layer"
      ],
      "metadata": {
        "id": "0F-pe6ZyoDdQ"
      }
    },
    {
      "cell_type": "code",
      "execution_count": null,
      "metadata": {
        "id": "mNAsd4_T-E1h"
      },
      "outputs": [],
      "source": [
        "# One dense layer\n",
        "layer = tf.keras.layers.Dense(units=2)\n",
        "\n",
        "# Multiple dense layers\n",
        "model = tf.keras.Sequential([\n",
        "    tf.keras.layers.Dense(10),\n",
        "    tf.keras.layers.Dense(2)\n",
        "])"
      ]
    },
    {
      "cell_type": "code",
      "source": [
        "\"\"\" TODO: Concatenate dense layers \"\"\"\n",
        "\n",
        "# Deep Neural Network (DNN) using multiple dense layers\n",
        "input_size = 10\n",
        "layer1 = tf.keras.layers.Dense(units=64, activation='relu', input_shape=(input_size,))\n",
        "layer2 = tf.keras.layers.Dense(units=32, activation='relu')\n",
        "layer3 = tf.keras.layers.Dense(units=16, activation='relu')\n",
        "layer4 = tf.keras.layers.Dense(units=1)\n",
        "\n",
        "model = tf.keras.Sequential([layer1, layer2, layer3, layer4])\n",
        "for layer in model.layers:\n",
        "  print(layer)"
      ],
      "metadata": {
        "colab": {
          "base_uri": "https://localhost:8080/"
        },
        "id": "U4RT7htPAn_P",
        "outputId": "fca9846c-5bc0-4c84-bed8-0850375c215b"
      },
      "execution_count": null,
      "outputs": [
        {
          "output_type": "stream",
          "name": "stdout",
          "text": [
            "<keras.layers.core.dense.Dense object at 0x7fa958f41370>\n",
            "<keras.layers.core.dense.Dense object at 0x7fa958f41a90>\n",
            "<keras.layers.core.dense.Dense object at 0x7fa958f414c0>\n",
            "<keras.layers.core.dense.Dense object at 0x7fa958666040>\n"
          ]
        }
      ]
    },
    {
      "cell_type": "code",
      "source": [
        "# TensorFlow dense layer\n",
        "class TFDenseLayer(tf.keras.Model):\n",
        "  def __init__(self, n_output_nodes):\n",
        "    super(TFDenseLayer, self).__init__()\n",
        "    self.dense_layer = tf.keras.layers.Dense(units=n_output_nodes, activation='sigmoid')\n",
        "\n",
        "  def call(self, x):\n",
        "    # Forward propagate the inputs\n",
        "    # Feed through a non-linear activation\n",
        "    return self.dense_layer(x)"
      ],
      "metadata": {
        "id": "N6k5kg-MlhGL"
      },
      "execution_count": null,
      "outputs": []
    },
    {
      "cell_type": "code",
      "source": [
        "custom_layer = TFDenseLayer(3)\n",
        "\n",
        "x_input = tf.constant([[1, 2.]], shape=(1, 2))\n",
        "y       = custom_layer.call(x_input)"
      ],
      "metadata": {
        "id": "J_OE4TWinsIi"
      },
      "execution_count": null,
      "outputs": []
    },
    {
      "cell_type": "code",
      "source": [
        "print('input      : {}'.format(x_input))\n",
        "print('input shape: {}\\n'.format(x_input.shape))\n",
        "\n",
        "print('output      : {}'.format(y.numpy()))\n",
        "print('output shape: {}'.format(y.numpy().shape))"
      ],
      "metadata": {
        "colab": {
          "base_uri": "https://localhost:8080/"
        },
        "id": "YrIioD9oqDMy",
        "outputId": "53f76830-d427-4638-9708-7acc88f5a362"
      },
      "execution_count": null,
      "outputs": [
        {
          "output_type": "stream",
          "name": "stdout",
          "text": [
            "input      : [[1. 2.]]\n",
            "input shape: (1, 2)\n",
            "\n",
            "output      : [[0.12574184 0.7328146  0.8921796 ]]\n",
            "output shape: (1, 3)\n"
          ]
        }
      ]
    },
    {
      "cell_type": "markdown",
      "source": [
        "### Loss"
      ],
      "metadata": {
        "id": "22zPi9M9Ck7y"
      }
    },
    {
      "cell_type": "code",
      "source": [
        "# Binary cross entropy loss (BCE)\n",
        "# Output is a probability between 0 and 1\n",
        "y         = [1, 0, 1]\n",
        "predicted = [0.1, 0.8, 0.6]\n",
        "\n",
        "loss = tf.reduce_mean(tf.nn.softmax_cross_entropy_with_logits(y, predicted))\n",
        "\n",
        "print(loss)"
      ],
      "metadata": {
        "colab": {
          "base_uri": "https://localhost:8080/"
        },
        "id": "HWdVofZjClhp",
        "outputId": "40972a55-0d55-4780-ef3b-4666119955f1"
      },
      "execution_count": null,
      "outputs": [
        {
          "output_type": "stream",
          "name": "stdout",
          "text": [
            "tf.Tensor(2.5790925, shape=(), dtype=float32)\n"
          ]
        }
      ]
    },
    {
      "cell_type": "code",
      "source": [
        "\"\"\" TODO: Construct MSE Loss \"\"\"\n",
        "\n",
        "# Mean square error loss (MSE)\n",
        "# Output is a continuous real number\n",
        "y         = [90, 20, 95]\n",
        "predicted = [30, 80, 85]\n",
        "\n",
        "loss1 = tf.reduce_mean(tf.square(tf.subtract(y, predicted)))\n",
        "loss2 = tf.keras.losses.MSE(y, predicted)\n",
        "\n",
        "print(loss1)\n",
        "print(loss2)"
      ],
      "metadata": {
        "colab": {
          "base_uri": "https://localhost:8080/"
        },
        "id": "OS0xbWfXCuZB",
        "outputId": "f55f8c83-53cf-4939-dea0-fcc7f08b512b"
      },
      "execution_count": null,
      "outputs": [
        {
          "output_type": "stream",
          "name": "stdout",
          "text": [
            "tf.Tensor(2433, shape=(), dtype=int32)\n",
            "tf.Tensor(2433, shape=(), dtype=int32)\n"
          ]
        }
      ]
    },
    {
      "cell_type": "markdown",
      "source": [
        "### Gradient Descent"
      ],
      "metadata": {
        "id": "RkYc12vqDaSC"
      }
    },
    {
      "cell_type": "code",
      "source": [
        "# Initialize weights randomly using normal distribution\n",
        "weights = tf.Variable([tf.random.normal([2, 2])])\n",
        "\n",
        "print(weights)"
      ],
      "metadata": {
        "colab": {
          "base_uri": "https://localhost:8080/"
        },
        "id": "uH28ige9DIPe",
        "outputId": "da47983d-3bb0-4123-dcb6-0dc53c942026"
      },
      "execution_count": null,
      "outputs": [
        {
          "output_type": "stream",
          "name": "stdout",
          "text": [
            "<tf.Variable 'Variable:0' shape=(1, 2, 2) dtype=float32, numpy=\n",
            "array([[[ 1.1022378, -1.0195255],\n",
            "        [ 0.5444023,  1.2773194]]], dtype=float32)>\n"
          ]
        }
      ]
    },
    {
      "cell_type": "code",
      "source": [
        "\"\"\" TODO: Use tf.GradientTape() and define y \"\"\"\n",
        "\n",
        "# tf.GradientTape() records relevant operatinos onto a 'tape'\n",
        "x = tf.Variable(3.0)\n",
        "with tf.GradientTape() as tape:\n",
        "  y = x * x\n",
        "dy_dx = tape.gradient(y, x)\n",
        "\n",
        "print(dy_dx.numpy())"
      ],
      "metadata": {
        "colab": {
          "base_uri": "https://localhost:8080/"
        },
        "id": "aD6B_FsrqkBy",
        "outputId": "118c806d-e1b6-4b75-84e5-15faa9cdffb7"
      },
      "execution_count": null,
      "outputs": [
        {
          "output_type": "stream",
          "name": "stdout",
          "text": [
            "6.0\n"
          ]
        }
      ]
    },
    {
      "cell_type": "code",
      "source": [
        "# Gradient descent for Test\n",
        "while True:\n",
        "  with tf.GradientTape() as tape:\n",
        "    def compute_loss(weights): return weights\n",
        "    loss = compute_loss(weights)\n",
        "    gradient = tape.gradient(loss, weights)\n",
        "\n",
        "  lr = 0.0001\n",
        "  weights = weights - lr * gradient\n",
        "  break"
      ],
      "metadata": {
        "id": "o8d2njobEb8Q"
      },
      "execution_count": null,
      "outputs": []
    },
    {
      "cell_type": "code",
      "source": [
        "# Various gradient descent algorithms\n",
        "# learn more: https://www.ruder.io/optimizing-gradient-descent/\n",
        "sgd      = tf.keras.optimizers.SGD\n",
        "adam     = tf.keras.optimizers.Adam\n",
        "adadelta = tf.keras.optimizers.Adadelta\n",
        "adagrad  = tf.keras.optimizers.Adagrad\n",
        "\n",
        "print(sgd)\n",
        "print(adam)\n",
        "print(adadelta)\n",
        "print(adagrad)\n",
        "try: rmsprop  = tf.keras.optimizers.RMSProp\n",
        "except: print('failed to define RMSProp')"
      ],
      "metadata": {
        "colab": {
          "base_uri": "https://localhost:8080/"
        },
        "id": "sIiI8e6jE6em",
        "outputId": "98f1f159-8141-4e41-efc3-9ed4dd03efd7"
      },
      "execution_count": null,
      "outputs": [
        {
          "output_type": "stream",
          "name": "stdout",
          "text": [
            "<class 'keras.optimizers.sgd.SGD'>\n",
            "<class 'keras.optimizers.adam.Adam'>\n",
            "<class 'keras.optimizers.adadelta.Adadelta'>\n",
            "<class 'keras.optimizers.adagrad.Adagrad'>\n",
            "failed to define RMSProp\n"
          ]
        }
      ]
    },
    {
      "cell_type": "markdown",
      "source": [
        "### Regularization"
      ],
      "metadata": {
        "id": "-OD1koc6ErXq"
      }
    },
    {
      "cell_type": "code",
      "source": [
        "# Dropout\n",
        "tf.keras.layers.Dropout(rate=0.5)"
      ],
      "metadata": {
        "colab": {
          "base_uri": "https://localhost:8080/"
        },
        "id": "p9mftrTuT0vp",
        "outputId": "61d5fe42-5b04-40cf-e84e-9efce2b9937d"
      },
      "execution_count": null,
      "outputs": [
        {
          "output_type": "execute_result",
          "data": {
            "text/plain": [
              "<keras.layers.regularization.dropout.Dropout at 0x7fa958f41670>"
            ]
          },
          "metadata": {},
          "execution_count": 25
        }
      ]
    },
    {
      "cell_type": "code",
      "source": [
        "# Early stopping\n",
        "tf.keras.callbacks.EarlyStopping(monitor='val_loss')"
      ],
      "metadata": {
        "colab": {
          "base_uri": "https://localhost:8080/"
        },
        "id": "eteDz3F5T3Kt",
        "outputId": "17dbfe4f-6522-498d-f170-1ae08348e2fc"
      },
      "execution_count": null,
      "outputs": [
        {
          "output_type": "execute_result",
          "data": {
            "text/plain": [
              "<keras.callbacks.EarlyStopping at 0x7fa958f41ac0>"
            ]
          },
          "metadata": {},
          "execution_count": 26
        }
      ]
    },
    {
      "cell_type": "markdown",
      "source": [
        "### Advanced Example: MNIST"
      ],
      "metadata": {
        "id": "_yX2lqaQt2K1"
      }
    },
    {
      "cell_type": "code",
      "source": [
        "# Download MNIST datasets\n",
        "(ds_train, ds_test), ds_info = tfds.load(\n",
        "    'mnist',\n",
        "    split=['train', 'test'],\n",
        "    shuffle_files=True,\n",
        "    as_supervised=True,\n",
        "    with_info=True,\n",
        ")"
      ],
      "metadata": {
        "id": "Zc7ybUUwt1n5",
        "colab": {
          "base_uri": "https://localhost:8080/",
          "height": 103,
          "referenced_widgets": [
            "97bc9e08bcc949cd9bfd461c0b23b94f",
            "a54f37263046426791bb82f0cae0fcdf",
            "c7ddf37fc61c48fdbca31f1d6d9664c6",
            "e1e080637350434792dcc87f7bd288f7",
            "c1d6b98319c744758255830c3470f338",
            "cb5e15dc37214a47adc7f3b82f2f985c",
            "dc16cec2090246adb1b47dbf352b83bc",
            "f86438489db94ec591afb8c79451a44e",
            "e03eed14d8914ec184298ac170b8f5d8",
            "3e601bba97204ebd90648871fb2cc3ea",
            "8d12ada16da14947a38c3147a33412eb"
          ]
        },
        "outputId": "03b6eac2-7908-4ec1-d03e-20a2d53d9661"
      },
      "execution_count": null,
      "outputs": [
        {
          "output_type": "stream",
          "name": "stdout",
          "text": [
            "Downloading and preparing dataset Unknown size (download: Unknown size, generated: Unknown size, total: Unknown size) to /root/tensorflow_datasets/mnist/3.0.1...\n"
          ]
        },
        {
          "output_type": "display_data",
          "data": {
            "text/plain": [
              "Dl Completed...:   0%|          | 0/5 [00:00<?, ? file/s]"
            ],
            "application/vnd.jupyter.widget-view+json": {
              "version_major": 2,
              "version_minor": 0,
              "model_id": "97bc9e08bcc949cd9bfd461c0b23b94f"
            }
          },
          "metadata": {}
        },
        {
          "output_type": "stream",
          "name": "stdout",
          "text": [
            "Dataset mnist downloaded and prepared to /root/tensorflow_datasets/mnist/3.0.1. Subsequent calls will reuse this data.\n"
          ]
        }
      ]
    },
    {
      "cell_type": "code",
      "source": [
        "# Preprocess train data\n",
        "def normalize_img(image, label):\n",
        "  \"\"\" Normalizes images: `uint8` -> `float32`. \"\"\"\n",
        "  return tf.cast(image, tf.float32) / 255., label\n",
        "\n",
        "ds_train = ds_train.map(\n",
        "    normalize_img, num_parallel_calls=tf.data.AUTOTUNE)\n",
        "ds_train = ds_train.cache()\n",
        "ds_train = ds_train.shuffle(ds_info.splits['train'].num_examples)\n",
        "ds_train = ds_train.batch(128)\n",
        "ds_train = ds_train.prefetch(tf.data.AUTOTUNE)"
      ],
      "metadata": {
        "id": "JmlxbD3auo10"
      },
      "execution_count": null,
      "outputs": []
    },
    {
      "cell_type": "code",
      "source": [
        "# Preprocess test data\n",
        "ds_test = ds_test.map(\n",
        "    normalize_img, num_parallel_calls=tf.data.AUTOTUNE)\n",
        "ds_test = ds_test.batch(128)\n",
        "ds_test = ds_test.cache()\n",
        "ds_test = ds_test.prefetch(tf.data.AUTOTUNE)"
      ],
      "metadata": {
        "id": "Ex02NIn6u9Kb"
      },
      "execution_count": null,
      "outputs": []
    },
    {
      "cell_type": "code",
      "source": [
        "# Train model\n",
        "model = tf.keras.models.Sequential([\n",
        "  tf.keras.layers.Flatten(input_shape=(28, 28)),\n",
        "  tf.keras.layers.Dense(128, activation='relu'),\n",
        "  tf.keras.layers.Dense(10)\n",
        "])\n",
        "\n",
        "model.compile(\n",
        "    optimizer=tf.keras.optimizers.Adam(0.001),\n",
        "    loss=tf.keras.losses.SparseCategoricalCrossentropy(from_logits=True),\n",
        "    metrics=[tf.keras.metrics.SparseCategoricalAccuracy()],\n",
        ")\n",
        "\n",
        "model.fit(\n",
        "    ds_train,\n",
        "    epochs=6,\n",
        "    validation_data=ds_test,\n",
        ")"
      ],
      "metadata": {
        "colab": {
          "base_uri": "https://localhost:8080/"
        },
        "id": "RIioZh04vBNZ",
        "outputId": "253f0d24-e099-4f6e-fc38-c57be6a0ba42"
      },
      "execution_count": null,
      "outputs": [
        {
          "output_type": "stream",
          "name": "stdout",
          "text": [
            "Epoch 1/6\n",
            "469/469 [==============================] - 20s 18ms/step - loss: 0.3591 - sparse_categorical_accuracy: 0.8998 - val_loss: 0.1991 - val_sparse_categorical_accuracy: 0.9443\n",
            "Epoch 2/6\n",
            "469/469 [==============================] - 7s 14ms/step - loss: 0.1690 - sparse_categorical_accuracy: 0.9516 - val_loss: 0.1403 - val_sparse_categorical_accuracy: 0.9576\n",
            "Epoch 3/6\n",
            "469/469 [==============================] - 3s 6ms/step - loss: 0.1204 - sparse_categorical_accuracy: 0.9657 - val_loss: 0.1105 - val_sparse_categorical_accuracy: 0.9676\n",
            "Epoch 4/6\n",
            "469/469 [==============================] - 4s 8ms/step - loss: 0.0937 - sparse_categorical_accuracy: 0.9728 - val_loss: 0.1040 - val_sparse_categorical_accuracy: 0.9693\n",
            "Epoch 5/6\n",
            "469/469 [==============================] - 3s 6ms/step - loss: 0.0759 - sparse_categorical_accuracy: 0.9783 - val_loss: 0.0868 - val_sparse_categorical_accuracy: 0.9742\n",
            "Epoch 6/6\n",
            "469/469 [==============================] - 3s 6ms/step - loss: 0.0621 - sparse_categorical_accuracy: 0.9817 - val_loss: 0.0857 - val_sparse_categorical_accuracy: 0.9737\n"
          ]
        },
        {
          "output_type": "execute_result",
          "data": {
            "text/plain": [
              "<keras.callbacks.History at 0x7fa9581704f0>"
            ]
          },
          "metadata": {},
          "execution_count": 30
        }
      ]
    }
  ]
}